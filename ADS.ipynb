{
  "nbformat": 4,
  "nbformat_minor": 0,
  "metadata": {
    "colab": {
      "name": "ADS.ipynb",
      "version": "0.3.2",
      "provenance": [],
      "collapsed_sections": []
    },
    "kernelspec": {
      "name": "python3",
      "display_name": "Python 3"
    },
    "accelerator": "GPU"
  },
  "cells": [
    {
      "cell_type": "markdown",
      "metadata": {
        "id": "view-in-github",
        "colab_type": "text"
      },
      "source": [
        "[View in Colaboratory](https://colab.research.google.com/github/ishachawla/R/blob/master/ADS.ipynb)"
      ]
    },
    {
      "metadata": {
        "id": "9Sda8-JPBOZc",
        "colab_type": "code",
        "colab": {
          "base_uri": "https://localhost:8080/",
          "height": 121
        },
        "outputId": "323a6c68-19e9-4209-ffef-76a926f0b823"
      },
      "cell_type": "code",
      "source": [
        "from __future__ import print_function\n",
        "import keras\n",
        "from keras.datasets import cifar10\n",
        "from keras.preprocessing.image import ImageDataGenerator\n",
        "from keras.models import Sequential\n",
        "from keras.layers import Dense, Dropout, Activation\n",
        "from keras.layers import Conv2D, MaxPooling2D, GlobalMaxPooling2D\n",
        "\n",
        "batch_size = 32 \n",
        "num_classes = 10\n",
        "epochs = 1600\n",
        "data_augmentation = True\n",
        "\n",
        "# The data, shuffled and split between train and test sets:\n",
        "(x_train, y_train), (x_test, y_test) = cifar10.load_data()\n",
        "print('x_train shape:', x_train.shape)\n",
        "print(x_train.shape[0], 'train samples')\n",
        "print(x_test.shape[0], 'test samples')"
      ],
      "execution_count": 1,
      "outputs": [
        {
          "output_type": "stream",
          "text": [
            "Using TensorFlow backend.\n"
          ],
          "name": "stderr"
        },
        {
          "output_type": "stream",
          "text": [
            "Downloading data from https://www.cs.toronto.edu/~kriz/cifar-10-python.tar.gz\n",
            "170500096/170498071 [==============================] - 9s 0us/step\n",
            "x_train shape: (50000, 32, 32, 3)\n",
            "50000 train samples\n",
            "10000 test samples\n"
          ],
          "name": "stdout"
        }
      ]
    },
    {
      "metadata": {
        "id": "JdcEYsOvB4-r",
        "colab_type": "code",
        "colab": {}
      },
      "cell_type": "code",
      "source": [
        "# Convert class vectors to binary class matrices.\n",
        "y_train = keras.utils.to_categorical(y_train, num_classes)\n",
        "y_test = keras.utils.to_categorical(y_test, num_classes)"
      ],
      "execution_count": 0,
      "outputs": []
    },
    {
      "metadata": {
        "id": "aCKgYf3ZCNDe",
        "colab_type": "code",
        "colab": {}
      },
      "cell_type": "code",
      "source": [
        "x_train = x_train.astype('float32')\n",
        "x_test = x_test.astype('float32')\n",
        "x_train /= 255\n",
        "x_test /= 255"
      ],
      "execution_count": 0,
      "outputs": []
    },
    {
      "metadata": {
        "id": "MSz7Jpi-CBJK",
        "colab_type": "code",
        "colab": {}
      },
      "cell_type": "code",
      "source": [
        "model = Sequential()\n",
        "\n",
        "model.add(Conv2D(32, (3, 3),kernel_initializer='random_normal',\n",
        "                 input_shape=x_train.shape[1:]))\n",
        "model.add(Activation('tanh'))\n",
        "model.add(Conv2D(32, (3, 3),kernel_initializer='random_normal',\n",
        "                 input_shape=x_train.shape[1:]))\n",
        "model.add(Activation('tanh'))\n",
        "model.add(Conv2D(32, (3, 3),kernel_initializer='random_normal',\n",
        "                 input_shape=x_train.shape[1:]))\n",
        "model.add(Activation('tanh'))\n",
        "model.add(Conv2D(48, (3, 3),kernel_initializer='random_normal',\n",
        "                 input_shape=x_train.shape[1:]))\n",
        "model.add(Activation('tanh'))\n",
        "model.add(Conv2D(48, (3, 3),kernel_initializer='random_normal',\n",
        "                 input_shape=x_train.shape[1:]))\n",
        "model.add(Activation('tanh'))\n",
        "model.add(GlobalMaxPooling2D())\n",
        "model.add(Dense(500))\n",
        "model.add(Dropout(0.25))\n",
        "model.add(Dense(num_classes))\n",
        "model.add(Activation('softmax'))"
      ],
      "execution_count": 0,
      "outputs": []
    },
    {
      "metadata": {
        "id": "6LKf3cjBCJzT",
        "colab_type": "code",
        "colab": {}
      },
      "cell_type": "code",
      "source": [
        "#opt = keras.optimizers.Adam(lr=0.0001)\n",
        "model.compile(loss='categorical_crossentropy',\n",
        "              optimizer=\"Adamax\",\n",
        "              metrics=['accuracy'])"
      ],
      "execution_count": 0,
      "outputs": []
    },
    {
      "metadata": {
        "id": "4l6KzvC0CVJV",
        "colab_type": "code",
        "colab": {
          "base_uri": "https://localhost:8080/",
          "height": 1788
        },
        "outputId": "cd16229e-652b-4ddf-8b33-8293938b11fa"
      },
      "cell_type": "code",
      "source": [
        " m1=model.fit(x_train, y_train,\n",
        "              batch_size=batch_size,\n",
        "              epochs=50,\n",
        "              validation_data=(x_test, y_test),\n",
        "              shuffle=True)"
      ],
      "execution_count": 11,
      "outputs": [
        {
          "output_type": "stream",
          "text": [
            "Train on 50000 samples, validate on 10000 samples\n",
            "Epoch 1/50\n",
            "50000/50000 [==============================] - 29s 576us/step - loss: 1.3940 - acc: 0.4980 - val_loss: 1.3713 - val_acc: 0.5096\n",
            "Epoch 2/50\n",
            "10528/50000 [=====>........................] - ETA: 21s - loss: 1.3099 - acc: 0.5275"
          ],
          "name": "stdout"
        },
        {
          "output_type": "stream",
          "text": [
            "50000/50000 [==============================] - 28s 566us/step - loss: 1.2909 - acc: 0.5369 - val_loss: 1.2736 - val_acc: 0.5412\n",
            "Epoch 3/50\n",
            "32704/50000 [==================>...........] - ETA: 9s - loss: 1.2290 - acc: 0.5610"
          ],
          "name": "stdout"
        },
        {
          "output_type": "stream",
          "text": [
            "50000/50000 [==============================] - 28s 566us/step - loss: 1.2250 - acc: 0.5611 - val_loss: 1.2442 - val_acc: 0.5555\n",
            "Epoch 4/50\n",
            "40864/50000 [=======================>......] - ETA: 4s - loss: 1.1724 - acc: 0.5806"
          ],
          "name": "stdout"
        },
        {
          "output_type": "stream",
          "text": [
            "50000/50000 [==============================] - 28s 569us/step - loss: 1.1724 - acc: 0.5818 - val_loss: 1.1799 - val_acc: 0.5739\n",
            "Epoch 5/50\n",
            "43776/50000 [=========================>....] - ETA: 3s - loss: 1.1316 - acc: 0.5950"
          ],
          "name": "stdout"
        },
        {
          "output_type": "stream",
          "text": [
            "50000/50000 [==============================] - 28s 566us/step - loss: 1.1315 - acc: 0.5950 - val_loss: 1.1665 - val_acc: 0.5845\n",
            "Epoch 6/50\n",
            "45440/50000 [==========================>...] - ETA: 2s - loss: 1.0979 - acc: 0.6088"
          ],
          "name": "stdout"
        },
        {
          "output_type": "stream",
          "text": [
            "50000/50000 [==============================] - 28s 564us/step - loss: 1.0976 - acc: 0.6087 - val_loss: 1.1195 - val_acc: 0.5994\n",
            "Epoch 7/50\n",
            "47424/50000 [===========================>..] - ETA: 1s - loss: 1.0663 - acc: 0.6201"
          ],
          "name": "stdout"
        },
        {
          "output_type": "stream",
          "text": [
            "50000/50000 [==============================] - 28s 558us/step - loss: 1.0663 - acc: 0.6202 - val_loss: 1.1180 - val_acc: 0.5987\n",
            "Epoch 8/50\n",
            "48416/50000 [============================>.] - ETA: 0s - loss: 1.0455 - acc: 0.6279"
          ],
          "name": "stdout"
        },
        {
          "output_type": "stream",
          "text": [
            "50000/50000 [==============================] - 28s 556us/step - loss: 1.0459 - acc: 0.6280 - val_loss: 1.1169 - val_acc: 0.6041\n",
            "Epoch 9/50\n",
            "48800/50000 [============================>.] - ETA: 0s - loss: 1.0192 - acc: 0.6373"
          ],
          "name": "stdout"
        },
        {
          "output_type": "stream",
          "text": [
            "50000/50000 [==============================] - 28s 556us/step - loss: 1.0200 - acc: 0.6370 - val_loss: 1.0785 - val_acc: 0.6125\n",
            "Epoch 10/50\n",
            "49120/50000 [============================>.] - ETA: 0s - loss: 0.9990 - acc: 0.6453"
          ],
          "name": "stdout"
        },
        {
          "output_type": "stream",
          "text": [
            "50000/50000 [==============================] - 28s 556us/step - loss: 0.9993 - acc: 0.6451 - val_loss: 1.0732 - val_acc: 0.6183\n",
            "Epoch 11/50\n",
            "49344/50000 [============================>.] - ETA: 0s - loss: 0.9814 - acc: 0.6504"
          ],
          "name": "stdout"
        },
        {
          "output_type": "stream",
          "text": [
            "50000/50000 [==============================] - 28s 554us/step - loss: 0.9809 - acc: 0.6505 - val_loss: 1.0913 - val_acc: 0.6078\n",
            "Epoch 12/50\n",
            "48448/50000 [============================>.] - ETA: 0s - loss: 0.9632 - acc: 0.6593"
          ],
          "name": "stdout"
        },
        {
          "output_type": "stream",
          "text": [
            "50000/50000 [==============================] - 28s 559us/step - loss: 0.9649 - acc: 0.6586 - val_loss: 1.0525 - val_acc: 0.6258\n",
            "Epoch 13/50\n",
            "48160/50000 [===========================>..] - ETA: 0s - loss: 0.9459 - acc: 0.6629"
          ],
          "name": "stdout"
        },
        {
          "output_type": "stream",
          "text": [
            "50000/50000 [==============================] - 28s 560us/step - loss: 0.9461 - acc: 0.6625 - val_loss: 1.1092 - val_acc: 0.6092\n",
            "Epoch 14/50\n",
            "49216/50000 [============================>.] - ETA: 0s - loss: 0.9306 - acc: 0.6691"
          ],
          "name": "stdout"
        },
        {
          "output_type": "stream",
          "text": [
            "50000/50000 [==============================] - 28s 552us/step - loss: 0.9315 - acc: 0.6691 - val_loss: 1.0783 - val_acc: 0.6173\n",
            "Epoch 15/50\n",
            "48672/50000 [============================>.] - ETA: 0s - loss: 0.9237 - acc: 0.6722"
          ],
          "name": "stdout"
        },
        {
          "output_type": "stream",
          "text": [
            "50000/50000 [==============================] - 28s 557us/step - loss: 0.9248 - acc: 0.6717 - val_loss: 1.1190 - val_acc: 0.6137\n",
            "Epoch 16/50\n",
            "48224/50000 [===========================>..] - ETA: 0s - loss: 0.8955 - acc: 0.6839"
          ],
          "name": "stdout"
        },
        {
          "output_type": "stream",
          "text": [
            "50000/50000 [==============================] - 28s 561us/step - loss: 0.8961 - acc: 0.6838 - val_loss: 1.0617 - val_acc: 0.6284\n",
            "Epoch 17/50\n",
            "47744/50000 [===========================>..] - ETA: 1s - loss: 0.8863 - acc: 0.6881"
          ],
          "name": "stdout"
        },
        {
          "output_type": "stream",
          "text": [
            "50000/50000 [==============================] - 28s 559us/step - loss: 0.8858 - acc: 0.6877 - val_loss: 1.0792 - val_acc: 0.6165\n",
            "Epoch 18/50\n",
            "48448/50000 [============================>.] - ETA: 0s - loss: 0.8623 - acc: 0.6939"
          ],
          "name": "stdout"
        },
        {
          "output_type": "stream",
          "text": [
            "50000/50000 [==============================] - 28s 557us/step - loss: 0.8629 - acc: 0.6938 - val_loss: 1.0538 - val_acc: 0.6292\n",
            "Epoch 19/50\n",
            "48288/50000 [===========================>..] - ETA: 0s - loss: 0.8565 - acc: 0.6957"
          ],
          "name": "stdout"
        },
        {
          "output_type": "stream",
          "text": [
            "50000/50000 [==============================] - 28s 557us/step - loss: 0.8580 - acc: 0.6951 - val_loss: 1.0705 - val_acc: 0.6304\n",
            "Epoch 20/50\n",
            "49216/50000 [============================>.] - ETA: 0s - loss: 0.8419 - acc: 0.7008"
          ],
          "name": "stdout"
        },
        {
          "output_type": "stream",
          "text": [
            "50000/50000 [==============================] - 28s 553us/step - loss: 0.8422 - acc: 0.7009 - val_loss: 1.0789 - val_acc: 0.6211\n",
            "Epoch 21/50\n",
            "47328/50000 [===========================>..] - ETA: 1s - loss: 0.8276 - acc: 0.7070"
          ],
          "name": "stdout"
        },
        {
          "output_type": "stream",
          "text": [
            "50000/50000 [==============================] - 28s 564us/step - loss: 0.8287 - acc: 0.7071 - val_loss: 1.0815 - val_acc: 0.6217\n",
            "Epoch 22/50\n",
            "47808/50000 [===========================>..] - ETA: 1s - loss: 0.8162 - acc: 0.7103"
          ],
          "name": "stdout"
        },
        {
          "output_type": "stream",
          "text": [
            "50000/50000 [==============================] - 28s 557us/step - loss: 0.8171 - acc: 0.7099 - val_loss: 1.0822 - val_acc: 0.6251\n",
            "Epoch 23/50\n",
            "48224/50000 [===========================>..] - ETA: 0s - loss: 0.8047 - acc: 0.7154"
          ],
          "name": "stdout"
        },
        {
          "output_type": "stream",
          "text": [
            "50000/50000 [==============================] - 28s 556us/step - loss: 0.8048 - acc: 0.7153 - val_loss: 1.1338 - val_acc: 0.6201\n",
            "Epoch 24/50\n",
            "48256/50000 [===========================>..] - ETA: 0s - loss: 0.7889 - acc: 0.7209"
          ],
          "name": "stdout"
        },
        {
          "output_type": "stream",
          "text": [
            "50000/50000 [==============================] - 28s 556us/step - loss: 0.7902 - acc: 0.7203 - val_loss: 1.1145 - val_acc: 0.6223\n",
            "Epoch 25/50\n",
            "47936/50000 [===========================>..] - ETA: 1s - loss: 0.7805 - acc: 0.7215"
          ],
          "name": "stdout"
        },
        {
          "output_type": "stream",
          "text": [
            "50000/50000 [==============================] - 28s 558us/step - loss: 0.7825 - acc: 0.7208 - val_loss: 1.0882 - val_acc: 0.6315\n",
            "Epoch 26/50\n",
            "48928/50000 [============================>.] - ETA: 0s - loss: 0.7738 - acc: 0.7252"
          ],
          "name": "stdout"
        },
        {
          "output_type": "stream",
          "text": [
            "50000/50000 [==============================] - 28s 552us/step - loss: 0.7750 - acc: 0.7248 - val_loss: 1.0861 - val_acc: 0.6245\n",
            "Epoch 27/50\n",
            "49408/50000 [============================>.] - ETA: 0s - loss: 0.7595 - acc: 0.7307"
          ],
          "name": "stdout"
        },
        {
          "output_type": "stream",
          "text": [
            "50000/50000 [==============================] - 28s 552us/step - loss: 0.7604 - acc: 0.7305 - val_loss: 1.1252 - val_acc: 0.6278\n",
            "Epoch 28/50\n",
            "49952/50000 [============================>.] - ETA: 0s - loss: 0.7531 - acc: 0.7308"
          ],
          "name": "stdout"
        },
        {
          "output_type": "stream",
          "text": [
            "50000/50000 [==============================] - 28s 552us/step - loss: 0.7531 - acc: 0.7309 - val_loss: 1.1236 - val_acc: 0.6212\n",
            "Epoch 29/50\n",
            "49376/50000 [============================>.] - ETA: 0s - loss: 0.7447 - acc: 0.7356"
          ],
          "name": "stdout"
        },
        {
          "output_type": "stream",
          "text": [
            "50000/50000 [==============================] - 28s 556us/step - loss: 0.7460 - acc: 0.7351 - val_loss: 1.1222 - val_acc: 0.6166\n",
            "Epoch 30/50\n",
            "50000/50000 [==============================] - 28s 551us/step - loss: 0.7310 - acc: 0.7372 - val_loss: 1.1022 - val_acc: 0.6283\n",
            "Epoch 31/50\n",
            "  160/50000 [..............................] - ETA: 25s - loss: 0.7606 - acc: 0.7500"
          ],
          "name": "stdout"
        },
        {
          "output_type": "stream",
          "text": [
            "50000/50000 [==============================] - 28s 553us/step - loss: 0.7213 - acc: 0.7414 - val_loss: 1.1239 - val_acc: 0.6250\n",
            "Epoch 32/50\n",
            "31136/50000 [=================>............] - ETA: 9s - loss: 0.7023 - acc: 0.7474"
          ],
          "name": "stdout"
        },
        {
          "output_type": "stream",
          "text": [
            "50000/50000 [==============================] - 27s 550us/step - loss: 0.7114 - acc: 0.7434 - val_loss: 1.1555 - val_acc: 0.6167\n",
            "Epoch 33/50\n",
            "43168/50000 [========================>.....] - ETA: 3s - loss: 0.7012 - acc: 0.7504"
          ],
          "name": "stdout"
        },
        {
          "output_type": "stream",
          "text": [
            "50000/50000 [==============================] - 28s 551us/step - loss: 0.7061 - acc: 0.7490 - val_loss: 1.1719 - val_acc: 0.6132\n",
            "Epoch 34/50\n",
            "47040/50000 [===========================>..] - ETA: 1s - loss: 0.6922 - acc: 0.7546"
          ],
          "name": "stdout"
        },
        {
          "output_type": "stream",
          "text": [
            "50000/50000 [==============================] - 28s 555us/step - loss: 0.6962 - acc: 0.7532 - val_loss: 1.1304 - val_acc: 0.6247\n",
            "Epoch 35/50\n",
            "48320/50000 [===========================>..] - ETA: 0s - loss: 0.6833 - acc: 0.7560"
          ],
          "name": "stdout"
        },
        {
          "output_type": "stream",
          "text": [
            "50000/50000 [==============================] - 28s 557us/step - loss: 0.6845 - acc: 0.7556 - val_loss: 1.1418 - val_acc: 0.6237\n",
            "Epoch 36/50\n",
            "49632/50000 [============================>.] - ETA: 0s - loss: 0.6739 - acc: 0.7596"
          ],
          "name": "stdout"
        },
        {
          "output_type": "stream",
          "text": [
            "50000/50000 [==============================] - 28s 552us/step - loss: 0.6743 - acc: 0.7593 - val_loss: 1.1805 - val_acc: 0.6186\n",
            "Epoch 37/50\n",
            "49472/50000 [============================>.] - ETA: 0s - loss: 0.6701 - acc: 0.7587"
          ],
          "name": "stdout"
        },
        {
          "output_type": "stream",
          "text": [
            "50000/50000 [==============================] - 28s 553us/step - loss: 0.6703 - acc: 0.7585 - val_loss: 1.2049 - val_acc: 0.6077\n",
            "Epoch 38/50\n",
            "50000/50000 [==============================] - 28s 552us/step - loss: 0.6596 - acc: 0.7633 - val_loss: 1.2020 - val_acc: 0.6147\n"
          ],
          "name": "stdout"
        },
        {
          "output_type": "stream",
          "text": [
            "Epoch 39/50\n",
            "50000/50000 [==============================] - 28s 551us/step - loss: 0.6539 - acc: 0.7653 - val_loss: 1.2229 - val_acc: 0.6174\n",
            "Epoch 40/50\n",
            "27808/50000 [===============>..............] - ETA: 11s - loss: 0.6218 - acc: 0.7758"
          ],
          "name": "stdout"
        },
        {
          "output_type": "stream",
          "text": [
            "50000/50000 [==============================] - 27s 543us/step - loss: 0.6407 - acc: 0.7687 - val_loss: 1.1810 - val_acc: 0.6166\n",
            "Epoch 41/50\n",
            "43296/50000 [========================>.....] - ETA: 3s - loss: 0.6343 - acc: 0.7727"
          ],
          "name": "stdout"
        },
        {
          "output_type": "stream",
          "text": [
            "50000/50000 [==============================] - 27s 543us/step - loss: 0.6362 - acc: 0.7719 - val_loss: 1.2352 - val_acc: 0.6121\n",
            "Epoch 42/50\n",
            "48672/50000 [============================>.] - ETA: 0s - loss: 0.6303 - acc: 0.7749"
          ],
          "name": "stdout"
        },
        {
          "output_type": "stream",
          "text": [
            "50000/50000 [==============================] - 27s 546us/step - loss: 0.6302 - acc: 0.7750 - val_loss: 1.2190 - val_acc: 0.6170\n",
            "Epoch 43/50\n",
            "50000/50000 [==============================] - 27s 546us/step - loss: 0.6167 - acc: 0.7803 - val_loss: 1.2204 - val_acc: 0.6201\n",
            "Epoch 44/50\n",
            "  544/50000 [..............................] - ETA: 25s - loss: 0.5748 - acc: 0.7868"
          ],
          "name": "stdout"
        },
        {
          "output_type": "stream",
          "text": [
            "50000/50000 [==============================] - 27s 545us/step - loss: 0.6150 - acc: 0.7805 - val_loss: 1.2243 - val_acc: 0.6171\n",
            "Epoch 45/50\n",
            "32192/50000 [==================>...........] - ETA: 9s - loss: 0.5894 - acc: 0.7879"
          ],
          "name": "stdout"
        },
        {
          "output_type": "stream",
          "text": [
            "50000/50000 [==============================] - 27s 546us/step - loss: 0.6026 - acc: 0.7839 - val_loss: 1.2838 - val_acc: 0.6143\n",
            "Epoch 46/50\n",
            "44512/50000 [=========================>....] - ETA: 2s - loss: 0.5919 - acc: 0.7871"
          ],
          "name": "stdout"
        },
        {
          "output_type": "stream",
          "text": [
            "50000/50000 [==============================] - 27s 545us/step - loss: 0.5963 - acc: 0.7857 - val_loss: 1.2635 - val_acc: 0.6131\n",
            "Epoch 47/50\n",
            "49408/50000 [============================>.] - ETA: 0s - loss: 0.5893 - acc: 0.7870"
          ],
          "name": "stdout"
        },
        {
          "output_type": "stream",
          "text": [
            "50000/50000 [==============================] - 27s 545us/step - loss: 0.5896 - acc: 0.7872 - val_loss: 1.2388 - val_acc: 0.6147\n",
            "Epoch 48/50\n",
            "50000/50000 [==============================] - 27s 545us/step - loss: 0.5806 - acc: 0.7927 - val_loss: 1.3265 - val_acc: 0.6037\n",
            "Epoch 49/50\n",
            "  256/50000 [..............................] - ETA: 26s - loss: 0.4825 - acc: 0.8281"
          ],
          "name": "stdout"
        },
        {
          "output_type": "stream",
          "text": [
            "50000/50000 [==============================] - 27s 545us/step - loss: 0.5784 - acc: 0.7902 - val_loss: 1.2771 - val_acc: 0.6103\n",
            "Epoch 50/50\n",
            "32928/50000 [==================>...........] - ETA: 8s - loss: 0.5611 - acc: 0.7972"
          ],
          "name": "stdout"
        },
        {
          "output_type": "stream",
          "text": [
            "50000/50000 [==============================] - 27s 543us/step - loss: 0.5709 - acc: 0.7930 - val_loss: 1.2728 - val_acc: 0.6214\n"
          ],
          "name": "stdout"
        }
      ]
    },
    {
      "metadata": {
        "id": "Q8nW0kHGLuLn",
        "colab_type": "code",
        "colab": {}
      },
      "cell_type": "code",
      "source": [
        "import matplotlib.pyplot as plt\n",
        "import seaborn as sb"
      ],
      "execution_count": 0,
      "outputs": []
    },
    {
      "metadata": {
        "id": "165BMRibLmGv",
        "colab_type": "code",
        "colab": {
          "base_uri": "https://localhost:8080/",
          "height": 405
        },
        "outputId": "333d8bfa-9564-4e81-ebd6-fb0513620b7e"
      },
      "cell_type": "code",
      "source": [
        "plt.figure(figsize=(10,6))\n",
        "sb.set_style(\"whitegrid\")\n",
        "plt.plot(m1.history['acc'],color=\"#E74C3C\",marker='o')\n",
        "plt.plot(m1.history['val_acc'],color='#641E16',marker='h')\n",
        "plt.title('Accuracy comparison between Validation and Train Data set',fontsize=15)\n",
        "plt.ylabel('Accuracy')\n",
        "plt.xlabel('Epoch')\n",
        "plt.legend(['Train', 'Test'], loc='lower right')\n",
        "plt.show()"
      ],
      "execution_count": 16,
      "outputs": [
        {
          "output_type": "display_data",
          "data": {
            "image/png": "[encoded data removed]",
            "text/plain": [
              "<matplotlib.figure.Figure at 0x7f5d4b823160>"
            ]
          },
          "metadata": {
            "tags": []
          }
        }
      ]
    },
    {
      "metadata": {
        "id": "RC4NIH4MMJQb",
        "colab_type": "code",
        "colab": {
          "base_uri": "https://localhost:8080/",
          "height": 405
        },
        "outputId": "33ada6ed-81a4-4fd8-b026-f81bae0214cf"
      },
      "cell_type": "code",
      "source": [
        "plt.figure(figsize=(10,6))\n",
        "sb.set_style(\"whitegrid\")\n",
        "plt.plot(m1.history['loss'],color=\"Purple\",marker='o')\n",
        "plt.plot(m1.history['val_loss'],color='Orange',marker='h')\n",
        "plt.title('Loss comparison between Validation and Train Data set',fontsize=15)\n",
        "plt.ylabel('Accuracy')\n",
        "plt.xlabel('Epoch')\n",
        "plt.legend(['Train', 'Test'], loc='best')\n",
        "plt.show()"
      ],
      "execution_count": 23,
      "outputs": [
        {
          "output_type": "display_data",
          "data": {
            "image/png": "[encoded data removed]",
            "text/plain": [
              "<matplotlib.figure.Figure at 0x7f5d4ff652b0>"
            ]
          },
          "metadata": {
            "tags": []
          }
        }
      ]
    },
    {
      "metadata": {
        "id": "vvcwUuDbMjyx",
        "colab_type": "code",
        "colab": {}
      },
      "cell_type": "code",
      "source": [
        "model2 = Sequential()\n",
        "\n",
        "model2.add(Conv2D(32, (3, 3),kernel_initializer='glorot_uniform',\n",
        "                 input_shape=x_train.shape[1:]))\n",
        "model2.add(Activation('relu'))\n",
        "model2.add(Conv2D(32, (3, 3),kernel_initializer='glorot_uniform',\n",
        "                 input_shape=x_train.shape[1:]))\n",
        "model2.add(Activation('relu'))\n",
        "model2.add(Conv2D(32, (3, 3),kernel_initializer='glorot_uniform',\n",
        "                 input_shape=x_train.shape[1:]))\n",
        "model2.add(Activation('relu'))\n",
        "model2.add(Conv2D(48, (3, 3),kernel_initializer='glorot_uniform',\n",
        "                 input_shape=x_train.shape[1:]))\n",
        "model2.add(Activation('relu'))\n",
        "model2.add(Conv2D(48, (3, 3),kernel_initializer='glorot_uniform',\n",
        "                 input_shape=x_train.shape[1:]))\n",
        "model2.add(Activation('relu'))\n",
        "model2.add(Conv2D(48, (3, 3),kernel_initializer='glorot_uniform',\n",
        "                 input_shape=x_train.shape[1:]))\n",
        "model2.add(Activation('relu'))\n",
        "model2.add(GlobalMaxPooling2D())\n",
        "model2.add(Dropout(0.25))\n",
        "model2.add(Dense(num_classes))\n",
        "model2.add(Activation('tanh'))"
      ],
      "execution_count": 0,
      "outputs": []
    },
    {
      "metadata": {
        "id": "uGe730cANZ3E",
        "colab_type": "code",
        "colab": {}
      },
      "cell_type": "code",
      "source": [
        "opt = keras.optimizers.Adam(lr=0.001)\n",
        "model2.compile(loss='categorical_crossentropy',\n",
        "              optimizer=opt,\n",
        "              metrics=['accuracy'])"
      ],
      "execution_count": 0,
      "outputs": []
    },
    {
      "metadata": {
        "id": "h2ADtM2WNket",
        "colab_type": "code",
        "colab": {
          "base_uri": "https://localhost:8080/",
          "height": 3521
        },
        "outputId": "1039352a-eede-47d0-9790-18c1d3de01d4"
      },
      "cell_type": "code",
      "source": [
        " m2=model2.fit(x_train, y_train,\n",
        "              batch_size=500,\n",
        "              epochs=100,\n",
        "              validation_data=(x_test, y_test),\n",
        "              shuffle=True)"
      ],
      "execution_count": 22,
      "outputs": [
        {
          "output_type": "stream",
          "text": [
            "Train on 50000 samples, validate on 10000 samples\n",
            "Epoch 1/100\n",
            "50000/50000 [==============================] - 15s 298us/step - loss: 6.9830 - acc: 0.0991 - val_loss: 6.6795 - val_acc: 0.1000\n",
            "Epoch 2/100\n",
            "50000/50000 [==============================] - 13s 269us/step - loss: 5.9865 - acc: 0.1026 - val_loss: 3.4401 - val_acc: 0.1000\n",
            "Epoch 3/100\n",
            "50000/50000 [==============================] - 14s 271us/step - loss: 3.9068 - acc: 0.1001 - val_loss: 3.4209 - val_acc: 0.1000\n",
            "Epoch 4/100\n",
            "12500/50000 [======>.......................] - ETA: 9s - loss: 3.8014 - acc: 0.0982"
          ],
          "name": "stdout"
        },
        {
          "output_type": "stream",
          "text": [
            "50000/50000 [==============================] - 14s 271us/step - loss: 4.1813 - acc: 0.0992 - val_loss: 4.2317 - val_acc: 0.1000\n",
            "Epoch 5/100\n",
            "50000/50000 [==============================] - 13s 269us/step - loss: 7.1293 - acc: 0.1023 - val_loss: 7.1345 - val_acc: 0.1000\n",
            "Epoch 6/100\n",
            "50000/50000 [==============================] - 13s 269us/step - loss: 6.8354 - acc: 0.1000 - val_loss: 6.8041 - val_acc: 0.1000\n",
            "Epoch 7/100\n",
            "34500/50000 [===================>..........] - ETA: 3s - loss: 6.7436 - acc: 0.1003"
          ],
          "name": "stdout"
        },
        {
          "output_type": "stream",
          "text": [
            "50000/50000 [==============================] - 13s 269us/step - loss: 6.7734 - acc: 0.1003 - val_loss: 6.6707 - val_acc: 0.1000\n",
            "Epoch 8/100\n",
            "50000/50000 [==============================] - 13s 269us/step - loss: 7.7340 - acc: 0.0996 - val_loss: 3.4137 - val_acc: 0.1000\n",
            "Epoch 9/100\n",
            "50000/50000 [==============================] - 13s 270us/step - loss: 4.4271 - acc: 0.1010 - val_loss: 6.7437 - val_acc: 0.1255\n",
            "Epoch 10/100\n",
            "38000/50000 [=====================>........] - ETA: 3s - loss: 6.9261 - acc: 0.1036"
          ],
          "name": "stdout"
        },
        {
          "output_type": "stream",
          "text": [
            "50000/50000 [==============================] - 13s 269us/step - loss: 6.9084 - acc: 0.1034 - val_loss: 6.8621 - val_acc: 0.1000\n",
            "Epoch 11/100\n",
            "50000/50000 [==============================] - 13s 270us/step - loss: 6.9399 - acc: 0.1012 - val_loss: 6.8603 - val_acc: 0.1000\n",
            "Epoch 12/100\n",
            "50000/50000 [==============================] - 13s 269us/step - loss: 6.8510 - acc: 0.1021 - val_loss: 6.8530 - val_acc: 0.0999\n",
            "Epoch 13/100\n",
            "38000/50000 [=====================>........] - ETA: 3s - loss: 6.8524 - acc: 0.1012"
          ],
          "name": "stdout"
        },
        {
          "output_type": "stream",
          "text": [
            "50000/50000 [==============================] - 14s 270us/step - loss: 6.9891 - acc: 0.1007 - val_loss: 9.6709 - val_acc: 0.1000\n",
            "Epoch 14/100\n",
            "50000/50000 [==============================] - 13s 269us/step - loss: 7.4921 - acc: 0.0974 - val_loss: 7.1403 - val_acc: 0.1000\n",
            "Epoch 15/100\n",
            "50000/50000 [==============================] - 14s 270us/step - loss: 5.1240 - acc: 0.0976 - val_loss: 12.3272 - val_acc: 0.1084\n",
            "Epoch 16/100\n",
            "38000/50000 [=====================>........] - ETA: 3s - loss: 5.0280 - acc: 0.1007"
          ],
          "name": "stdout"
        },
        {
          "output_type": "stream",
          "text": [
            "50000/50000 [==============================] - 13s 270us/step - loss: 4.6498 - acc: 0.1001 - val_loss: 3.3377 - val_acc: 0.1000\n",
            "Epoch 17/100\n",
            "50000/50000 [==============================] - 13s 270us/step - loss: 5.8610 - acc: 0.0996 - val_loss: 6.5282 - val_acc: 0.1000\n",
            "Epoch 18/100\n",
            "50000/50000 [==============================] - 13s 268us/step - loss: 8.6409 - acc: 0.0994 - val_loss: 11.2038 - val_acc: 0.1000\n",
            "Epoch 19/100\n",
            "38000/50000 [=====================>........] - ETA: 3s - loss: 8.4379 - acc: 0.1001"
          ],
          "name": "stdout"
        },
        {
          "output_type": "stream",
          "text": [
            "50000/50000 [==============================] - 13s 268us/step - loss: 7.9777 - acc: 0.1000 - val_loss: 11.2617 - val_acc: 0.1000\n",
            "Epoch 20/100\n",
            "50000/50000 [==============================] - 13s 269us/step - loss: 6.6286 - acc: 0.1005 - val_loss: 11.2778 - val_acc: 0.1000\n",
            "Epoch 21/100\n",
            "50000/50000 [==============================] - 13s 268us/step - loss: 6.5807 - acc: 0.0985 - val_loss: 11.2375 - val_acc: 0.1000\n",
            "Epoch 22/100\n",
            "37500/50000 [=====================>........] - ETA: 3s - loss: 6.6079 - acc: 0.0990"
          ],
          "name": "stdout"
        },
        {
          "output_type": "stream",
          "text": [
            "50000/50000 [==============================] - 13s 269us/step - loss: 7.3328 - acc: 0.0998 - val_loss: 11.1894 - val_acc: 0.1000\n",
            "Epoch 23/100\n",
            "50000/50000 [==============================] - 13s 269us/step - loss: 6.6856 - acc: 0.1015 - val_loss: 11.2585 - val_acc: 0.1000\n",
            "Epoch 24/100\n",
            "50000/50000 [==============================] - 13s 268us/step - loss: 6.5913 - acc: 0.0998 - val_loss: 11.2762 - val_acc: 0.1000\n",
            "Epoch 25/100\n",
            "37500/50000 [=====================>........] - ETA: 3s - loss: 6.6324 - acc: 0.0981"
          ],
          "name": "stdout"
        },
        {
          "output_type": "stream",
          "text": [
            "50000/50000 [==============================] - 13s 268us/step - loss: 6.6427 - acc: 0.0996 - val_loss: 11.2778 - val_acc: 0.1000\n",
            "Epoch 26/100\n",
            "50000/50000 [==============================] - 13s 269us/step - loss: 6.5655 - acc: 0.0995 - val_loss: 11.2778 - val_acc: 0.1000\n",
            "Epoch 27/100\n",
            "50000/50000 [==============================] - 13s 269us/step - loss: 6.6559 - acc: 0.0981 - val_loss: 11.2778 - val_acc: 0.1000\n",
            "Epoch 28/100\n",
            "37500/50000 [=====================>........] - ETA: 3s - loss: 6.5605 - acc: 0.1003"
          ],
          "name": "stdout"
        },
        {
          "output_type": "stream",
          "text": [
            "50000/50000 [==============================] - 13s 269us/step - loss: 6.5731 - acc: 0.1016 - val_loss: 11.2762 - val_acc: 0.1000\n",
            "Epoch 29/100\n",
            "50000/50000 [==============================] - 13s 269us/step - loss: 6.6578 - acc: 0.1002 - val_loss: 11.2762 - val_acc: 0.1000\n",
            "Epoch 30/100\n",
            "50000/50000 [==============================] - 13s 269us/step - loss: 6.6349 - acc: 0.1010 - val_loss: 11.2778 - val_acc: 0.1000\n",
            "Epoch 31/100\n",
            "37500/50000 [=====================>........] - ETA: 3s - loss: 6.5934 - acc: 0.0986"
          ],
          "name": "stdout"
        },
        {
          "output_type": "stream",
          "text": [
            "50000/50000 [==============================] - 13s 268us/step - loss: 6.5866 - acc: 0.1004 - val_loss: 11.2827 - val_acc: 0.1000\n",
            "Epoch 32/100\n",
            "50000/50000 [==============================] - 13s 269us/step - loss: 6.5259 - acc: 0.1001 - val_loss: 11.2811 - val_acc: 0.1000\n",
            "Epoch 33/100\n",
            "50000/50000 [==============================] - 13s 270us/step - loss: 6.6458 - acc: 0.1002 - val_loss: 11.2827 - val_acc: 0.1000\n",
            "Epoch 34/100\n",
            "37500/50000 [=====================>........] - ETA: 3s - loss: 6.6548 - acc: 0.0983"
          ],
          "name": "stdout"
        },
        {
          "output_type": "stream",
          "text": [
            "50000/50000 [==============================] - 13s 270us/step - loss: 6.6616 - acc: 0.0988 - val_loss: 11.2827 - val_acc: 0.1000\n",
            "Epoch 35/100\n",
            "50000/50000 [==============================] - 13s 269us/step - loss: 6.6349 - acc: 0.1026 - val_loss: 11.2827 - val_acc: 0.1000\n",
            "Epoch 36/100\n",
            "50000/50000 [==============================] - 13s 269us/step - loss: 6.6349 - acc: 0.1002 - val_loss: 11.2827 - val_acc: 0.1000\n",
            "Epoch 37/100\n",
            "37500/50000 [=====================>........] - ETA: 3s - loss: 6.5616 - acc: 0.1014"
          ],
          "name": "stdout"
        },
        {
          "output_type": "stream",
          "text": [
            "50000/50000 [==============================] - 13s 270us/step - loss: 6.5610 - acc: 0.1004 - val_loss: 11.2827 - val_acc: 0.1000\n",
            "Epoch 38/100\n",
            "50000/50000 [==============================] - 13s 268us/step - loss: 6.6042 - acc: 0.0977 - val_loss: 11.2827 - val_acc: 0.1000\n",
            "Epoch 39/100\n",
            "50000/50000 [==============================] - 13s 269us/step - loss: 6.6429 - acc: 0.0997 - val_loss: 11.2827 - val_acc: 0.1000\n",
            "Epoch 40/100\n",
            "37500/50000 [=====================>........] - ETA: 3s - loss: 6.6046 - acc: 0.0997"
          ],
          "name": "stdout"
        },
        {
          "output_type": "stream",
          "text": [
            "50000/50000 [==============================] - 13s 269us/step - loss: 6.6116 - acc: 0.1010 - val_loss: 11.2827 - val_acc: 0.1000\n",
            "Epoch 41/100\n",
            "50000/50000 [==============================] - 13s 269us/step - loss: 6.6213 - acc: 0.0989 - val_loss: 11.2827 - val_acc: 0.1000\n",
            "Epoch 42/100\n",
            "50000/50000 [==============================] - 13s 269us/step - loss: 6.6068 - acc: 0.0999 - val_loss: 11.2827 - val_acc: 0.1000\n",
            "Epoch 43/100\n",
            "37500/50000 [=====================>........] - ETA: 3s - loss: 6.5766 - acc: 0.0995"
          ],
          "name": "stdout"
        },
        {
          "output_type": "stream",
          "text": [
            "50000/50000 [==============================] - 13s 268us/step - loss: 6.5826 - acc: 0.0999 - val_loss: 11.2827 - val_acc: 0.1000\n",
            "Epoch 44/100\n",
            "50000/50000 [==============================] - 13s 269us/step - loss: 6.6400 - acc: 0.0995 - val_loss: 11.2827 - val_acc: 0.1000\n",
            "Epoch 45/100\n",
            "50000/50000 [==============================] - 13s 268us/step - loss: 6.6500 - acc: 0.1009 - val_loss: 11.2827 - val_acc: 0.1000\n",
            "Epoch 46/100\n",
            "37500/50000 [=====================>........] - ETA: 3s - loss: 6.5977 - acc: 0.1016"
          ],
          "name": "stdout"
        },
        {
          "output_type": "stream",
          "text": [
            "50000/50000 [==============================] - 13s 270us/step - loss: 6.6278 - acc: 0.1011 - val_loss: 11.2827 - val_acc: 0.1000\n",
            "Epoch 47/100\n",
            "50000/50000 [==============================] - 13s 268us/step - loss: 6.5701 - acc: 0.0992 - val_loss: 11.2827 - val_acc: 0.1000\n",
            "Epoch 48/100\n",
            "50000/50000 [==============================] - 13s 269us/step - loss: 6.5900 - acc: 0.1000 - val_loss: 11.2827 - val_acc: 0.1000\n",
            "Epoch 49/100\n",
            "37500/50000 [=====================>........] - ETA: 3s - loss: 6.6952 - acc: 0.0989"
          ],
          "name": "stdout"
        },
        {
          "output_type": "stream",
          "text": [
            "50000/50000 [==============================] - 13s 268us/step - loss: 6.7019 - acc: 0.0993 - val_loss: 11.2827 - val_acc: 0.1000\n",
            "Epoch 50/100\n",
            "50000/50000 [==============================] - 13s 269us/step - loss: 6.6023 - acc: 0.0997 - val_loss: 11.2827 - val_acc: 0.1000\n",
            "Epoch 51/100\n",
            "50000/50000 [==============================] - 13s 269us/step - loss: 6.6078 - acc: 0.1001 - val_loss: 11.2827 - val_acc: 0.1000\n",
            "Epoch 52/100\n",
            "37500/50000 [=====================>........] - ETA: 3s - loss: 6.5947 - acc: 0.1005"
          ],
          "name": "stdout"
        },
        {
          "output_type": "stream",
          "text": [
            "50000/50000 [==============================] - 13s 269us/step - loss: 6.5968 - acc: 0.1017 - val_loss: 11.2827 - val_acc: 0.1000\n",
            "Epoch 53/100\n",
            "50000/50000 [==============================] - 13s 268us/step - loss: 6.6200 - acc: 0.1035 - val_loss: 11.2827 - val_acc: 0.1000\n",
            "Epoch 54/100\n",
            "50000/50000 [==============================] - 13s 269us/step - loss: 6.6158 - acc: 0.0994 - val_loss: 11.2827 - val_acc: 0.1000\n",
            "Epoch 55/100\n",
            "37500/50000 [=====================>........] - ETA: 3s - loss: 6.6192 - acc: 0.1006"
          ],
          "name": "stdout"
        },
        {
          "output_type": "stream",
          "text": [
            "50000/50000 [==============================] - 13s 268us/step - loss: 6.6526 - acc: 0.1007 - val_loss: 11.2827 - val_acc: 0.1000\n",
            "Epoch 56/100\n",
            "50000/50000 [==============================] - 13s 270us/step - loss: 6.6452 - acc: 0.0993 - val_loss: 11.2827 - val_acc: 0.1000\n",
            "Epoch 57/100\n",
            "50000/50000 [==============================] - 13s 269us/step - loss: 6.6042 - acc: 0.1008 - val_loss: 11.2827 - val_acc: 0.1000\n",
            "Epoch 58/100\n",
            "37500/50000 [=====================>........] - ETA: 3s - loss: 6.6196 - acc: 0.0980"
          ],
          "name": "stdout"
        },
        {
          "output_type": "stream",
          "text": [
            "50000/50000 [==============================] - 13s 269us/step - loss: 6.6320 - acc: 0.0993 - val_loss: 11.2827 - val_acc: 0.1000\n",
            "Epoch 59/100\n",
            "50000/50000 [==============================] - 13s 269us/step - loss: 6.6516 - acc: 0.0996 - val_loss: 11.2827 - val_acc: 0.1000\n",
            "Epoch 60/100\n",
            "50000/50000 [==============================] - 13s 269us/step - loss: 6.6207 - acc: 0.1000 - val_loss: 11.2827 - val_acc: 0.1000\n",
            "Epoch 61/100\n",
            "37500/50000 [=====================>........] - ETA: 3s - loss: 6.6217 - acc: 0.1008"
          ],
          "name": "stdout"
        },
        {
          "output_type": "stream",
          "text": [
            "50000/50000 [==============================] - 13s 269us/step - loss: 6.6052 - acc: 0.1008 - val_loss: 11.2827 - val_acc: 0.1000\n",
            "Epoch 62/100\n",
            "50000/50000 [==============================] - 13s 270us/step - loss: 6.6352 - acc: 0.0983 - val_loss: 11.2827 - val_acc: 0.1000\n",
            "Epoch 63/100\n",
            "50000/50000 [==============================] - 13s 270us/step - loss: 6.5552 - acc: 0.1006 - val_loss: 11.2827 - val_acc: 0.1000\n",
            "Epoch 64/100\n",
            "37500/50000 [=====================>........] - ETA: 3s - loss: 6.5985 - acc: 0.0981"
          ],
          "name": "stdout"
        },
        {
          "output_type": "stream",
          "text": [
            "50000/50000 [==============================] - 13s 269us/step - loss: 6.5772 - acc: 0.0983 - val_loss: 11.2827 - val_acc: 0.1000\n",
            "Epoch 65/100\n",
            "50000/50000 [==============================] - 13s 270us/step - loss: 6.6194 - acc: 0.0997 - val_loss: 11.2827 - val_acc: 0.1000\n",
            "Epoch 66/100\n",
            "50000/50000 [==============================] - 13s 269us/step - loss: 6.5752 - acc: 0.1009 - val_loss: 11.2827 - val_acc: 0.1000\n",
            "Epoch 67/100\n",
            "37500/50000 [=====================>........] - ETA: 3s - loss: 6.6351 - acc: 0.1007"
          ],
          "name": "stdout"
        },
        {
          "output_type": "stream",
          "text": [
            "50000/50000 [==============================] - 13s 269us/step - loss: 6.6200 - acc: 0.0994 - val_loss: 11.2827 - val_acc: 0.1000\n",
            "Epoch 68/100\n",
            "50000/50000 [==============================] - 13s 269us/step - loss: 6.6461 - acc: 0.1004 - val_loss: 11.2827 - val_acc: 0.1000\n",
            "Epoch 69/100\n",
            "50000/50000 [==============================] - 13s 270us/step - loss: 6.5288 - acc: 0.0985 - val_loss: 11.2827 - val_acc: 0.1000\n",
            "Epoch 70/100\n",
            "37500/50000 [=====================>........] - ETA: 3s - loss: 6.6243 - acc: 0.0993"
          ],
          "name": "stdout"
        },
        {
          "output_type": "stream",
          "text": [
            "50000/50000 [==============================] - 13s 269us/step - loss: 6.5997 - acc: 0.1001 - val_loss: 11.2827 - val_acc: 0.1000\n",
            "Epoch 71/100\n",
            "50000/50000 [==============================] - 13s 269us/step - loss: 6.6313 - acc: 0.0994 - val_loss: 11.2827 - val_acc: 0.1000\n",
            "Epoch 72/100\n",
            "50000/50000 [==============================] - 13s 269us/step - loss: 6.6287 - acc: 0.0996 - val_loss: 11.2827 - val_acc: 0.1000\n",
            "Epoch 73/100\n",
            "37500/50000 [=====================>........] - ETA: 3s - loss: 6.5723 - acc: 0.1015"
          ],
          "name": "stdout"
        },
        {
          "output_type": "stream",
          "text": [
            "50000/50000 [==============================] - 13s 269us/step - loss: 6.5746 - acc: 0.1002 - val_loss: 11.2827 - val_acc: 0.1000\n",
            "Epoch 74/100\n",
            "50000/50000 [==============================] - 14s 270us/step - loss: 6.6490 - acc: 0.0996 - val_loss: 11.2827 - val_acc: 0.1000\n",
            "Epoch 75/100\n",
            "50000/50000 [==============================] - 13s 269us/step - loss: 6.6094 - acc: 0.1006 - val_loss: 11.2827 - val_acc: 0.1000\n",
            "Epoch 76/100\n",
            "37500/50000 [=====================>........] - ETA: 3s - loss: 6.6088 - acc: 0.0994"
          ],
          "name": "stdout"
        },
        {
          "output_type": "stream",
          "text": [
            "50000/50000 [==============================] - 13s 269us/step - loss: 6.6352 - acc: 0.0997 - val_loss: 11.2827 - val_acc: 0.1000\n",
            "Epoch 77/100\n",
            "50000/50000 [==============================] - 13s 269us/step - loss: 6.6252 - acc: 0.1010 - val_loss: 11.2827 - val_acc: 0.1000\n",
            "Epoch 78/100\n",
            "50000/50000 [==============================] - 13s 268us/step - loss: 6.6332 - acc: 0.0999 - val_loss: 11.2827 - val_acc: 0.1000\n",
            "Epoch 79/100\n",
            "37500/50000 [=====================>........] - ETA: 3s - loss: 6.6866 - acc: 0.1005"
          ],
          "name": "stdout"
        },
        {
          "output_type": "stream",
          "text": [
            "50000/50000 [==============================] - 13s 270us/step - loss: 6.6671 - acc: 0.1003 - val_loss: 11.2827 - val_acc: 0.1000\n",
            "Epoch 80/100\n",
            "50000/50000 [==============================] - 13s 268us/step - loss: 6.6000 - acc: 0.1001 - val_loss: 11.2827 - val_acc: 0.1000\n",
            "Epoch 81/100\n",
            "50000/50000 [==============================] - 13s 269us/step - loss: 6.5871 - acc: 0.0989 - val_loss: 11.2827 - val_acc: 0.1000\n",
            "Epoch 82/100\n",
            "37500/50000 [=====================>........] - ETA: 3s - loss: 6.6088 - acc: 0.0987"
          ],
          "name": "stdout"
        },
        {
          "output_type": "stream",
          "text": [
            "50000/50000 [==============================] - 13s 270us/step - loss: 6.6052 - acc: 0.0988 - val_loss: 11.2827 - val_acc: 0.1000\n",
            "Epoch 83/100\n",
            "50000/50000 [==============================] - 13s 269us/step - loss: 6.6245 - acc: 0.1001 - val_loss: 11.2827 - val_acc: 0.1000\n",
            "Epoch 84/100\n",
            "50000/50000 [==============================] - 13s 269us/step - loss: 6.6174 - acc: 0.1004 - val_loss: 11.2827 - val_acc: 0.1000\n",
            "Epoch 85/100\n",
            "37500/50000 [=====================>........] - ETA: 3s - loss: 6.6871 - acc: 0.1002"
          ],
          "name": "stdout"
        },
        {
          "output_type": "stream",
          "text": [
            "50000/50000 [==============================] - 13s 269us/step - loss: 6.6851 - acc: 0.0999 - val_loss: 11.2827 - val_acc: 0.1000\n",
            "Epoch 86/100\n",
            "50000/50000 [==============================] - 13s 268us/step - loss: 6.6452 - acc: 0.1007 - val_loss: 11.2827 - val_acc: 0.1000\n",
            "Epoch 87/100\n",
            "50000/50000 [==============================] - 13s 269us/step - loss: 6.6065 - acc: 0.0999 - val_loss: 11.2827 - val_acc: 0.1000\n",
            "Epoch 88/100\n",
            "37500/50000 [=====================>........] - ETA: 3s - loss: 6.5487 - acc: 0.0989"
          ],
          "name": "stdout"
        },
        {
          "output_type": "stream",
          "text": [
            "50000/50000 [==============================] - 13s 269us/step - loss: 6.5246 - acc: 0.0992 - val_loss: 11.2827 - val_acc: 0.1000\n",
            "Epoch 89/100\n",
            "50000/50000 [==============================] - 13s 269us/step - loss: 6.5978 - acc: 0.0978 - val_loss: 11.2827 - val_acc: 0.1000\n",
            "Epoch 90/100\n",
            "50000/50000 [==============================] - 13s 268us/step - loss: 6.6320 - acc: 0.0996 - val_loss: 11.2827 - val_acc: 0.1000\n",
            "Epoch 91/100\n",
            "37500/50000 [=====================>........] - ETA: 3s - loss: 6.5839 - acc: 0.1002"
          ],
          "name": "stdout"
        },
        {
          "output_type": "stream",
          "text": [
            "50000/50000 [==============================] - 13s 268us/step - loss: 6.6023 - acc: 0.0999 - val_loss: 11.2827 - val_acc: 0.1000\n",
            "Epoch 92/100\n",
            "50000/50000 [==============================] - 13s 269us/step - loss: 6.5820 - acc: 0.0995 - val_loss: 11.2827 - val_acc: 0.1000\n",
            "Epoch 93/100\n",
            "50000/50000 [==============================] - 13s 269us/step - loss: 6.6851 - acc: 0.0986 - val_loss: 11.2827 - val_acc: 0.1000\n",
            "Epoch 94/100\n",
            "37500/50000 [=====================>........] - ETA: 3s - loss: 6.5981 - acc: 0.0987"
          ],
          "name": "stdout"
        },
        {
          "output_type": "stream",
          "text": [
            "50000/50000 [==============================] - 13s 269us/step - loss: 6.5801 - acc: 0.0988 - val_loss: 11.2827 - val_acc: 0.1000\n",
            "Epoch 95/100\n",
            "50000/50000 [==============================] - 13s 269us/step - loss: 6.6352 - acc: 0.0993 - val_loss: 11.2827 - val_acc: 0.1000\n",
            "Epoch 96/100\n",
            "50000/50000 [==============================] - 13s 269us/step - loss: 6.6384 - acc: 0.1002 - val_loss: 11.2827 - val_acc: 0.1000\n",
            "Epoch 97/100\n",
            "37500/50000 [=====================>........] - ETA: 3s - loss: 6.5874 - acc: 0.1014"
          ],
          "name": "stdout"
        },
        {
          "output_type": "stream",
          "text": [
            "50000/50000 [==============================] - 13s 269us/step - loss: 6.6104 - acc: 0.1023 - val_loss: 11.2827 - val_acc: 0.1000\n",
            "Epoch 98/100\n",
            "50000/50000 [==============================] - 13s 270us/step - loss: 6.6326 - acc: 0.0994 - val_loss: 11.2827 - val_acc: 0.1000\n",
            "Epoch 99/100\n",
            "50000/50000 [==============================] - 13s 269us/step - loss: 6.5955 - acc: 0.0987 - val_loss: 11.2827 - val_acc: 0.1000\n",
            "Epoch 100/100\n",
            "37500/50000 [=====================>........] - ETA: 3s - loss: 6.6574 - acc: 0.0982"
          ],
          "name": "stdout"
        },
        {
          "output_type": "stream",
          "text": [
            "50000/50000 [==============================] - 13s 268us/step - loss: 6.6349 - acc: 0.0985 - val_loss: 11.2827 - val_acc: 0.1000\n"
          ],
          "name": "stdout"
        }
      ]
    },
    {
      "metadata": {
        "id": "PrU7r_9UT1pA",
        "colab_type": "code",
        "colab": {
          "base_uri": "https://localhost:8080/",
          "height": 405
        },
        "outputId": "75f731f0-577f-41e6-eae5-65f7d75f9ad0"
      },
      "cell_type": "code",
      "source": [
        "plt.figure(figsize=(10,6))\n",
        "sb.set_style(\"whitegrid\")\n",
        "plt.plot(m2.history['acc'],color=\"#E74C3C\",marker='o')\n",
        "plt.plot(m2.history['val_acc'],color='#641E16',marker='h')\n",
        "plt.title('Accuracy comparison between Validation and Train Data set',fontsize=15)\n",
        "plt.ylabel('Accuracy')\n",
        "plt.xlabel('Epoch')\n",
        "plt.legend(['Train', 'Test'], loc='best')\n",
        "plt.show()"
      ],
      "execution_count": 25,
      "outputs": [
        {
          "output_type": "display_data",
          "data": {
            "image/png": "[encoded data removed]",
            "text/plain": [
              "<matplotlib.figure.Figure at 0x7f5d4a73eba8>"
            ]
          },
          "metadata": {
            "tags": []
          }
        }
      ]
    },
    {
      "metadata": {
        "id": "ll8m17erUPE5",
        "colab_type": "code",
        "colab": {
          "base_uri": "https://localhost:8080/",
          "height": 405
        },
        "outputId": "2f617426-d38e-4176-fdc1-d3e9dd061a34"
      },
      "cell_type": "code",
      "source": [
        "plt.figure(figsize=(10,6))\n",
        "sb.set_style(\"whitegrid\")\n",
        "plt.plot(m2.history['loss'],color=\"#E74C3C\",marker='o')\n",
        "plt.plot(m2.history['val_loss'],color='#641E16',marker='h')\n",
        "plt.title('Loss comparison between Validation and Train Data set',fontsize=15)\n",
        "plt.ylabel('Accuracy')\n",
        "plt.xlabel('Epoch')\n",
        "plt.legend(['Train', 'Test'], loc='best')\n",
        "plt.show()"
      ],
      "execution_count": 26,
      "outputs": [
        {
          "output_type": "display_data",
          "data": {
            "image/png": "[encoded data removed]",
            "text/plain": [
              "<matplotlib.figure.Figure at 0x7f5d4a771748>"
            ]
          },
          "metadata": {
            "tags": []
          }
        }
      ]
    },
    {
      "metadata": {
        "id": "gEqpFKf6UYnv",
        "colab_type": "code",
        "colab": {}
      },
      "cell_type": "code",
      "source": [
        "model3 = Sequential()\n",
        "\n",
        "model3.add(Conv2D(32, (3, 3),kernel_initializer='random_normal',\n",
        "                 input_shape=x_train.shape[1:]))\n",
        "model3.add(Activation('tanh'))\n",
        "model3.add(Conv2D(32, (3, 3),kernel_initializer='random_normal',\n",
        "                 input_shape=x_train.shape[1:]))\n",
        "model3.add(Activation('tanh'))\n",
        "model3.add(Conv2D(32, (3, 3),kernel_initializer='random_normal',\n",
        "                 input_shape=x_train.shape[1:]))\n",
        "model3.add(Activation('tanh'))\n",
        "model3.add(Conv2D(48, (3, 3),kernel_initializer='random_normal',\n",
        "                 input_shape=x_train.shape[1:]))\n",
        "model3.add(Activation('tanh'))\n",
        "model3.add(Conv2D(48, (3, 3),kernel_initializer='random_normal',\n",
        "                 input_shape=x_train.shape[1:]))\n",
        "model3.add(Activation('tanh'))\n",
        "model3.add(Conv2D(48, (3, 3),kernel_initializer='random_normal',\n",
        "                 input_shape=x_train.shape[1:]))\n",
        "model3.add(Activation('tanh'))\n",
        "model3.add(Conv2D(48, (3, 3),kernel_initializer='random_normal',\n",
        "                 input_shape=x_train.shape[1:]))\n",
        "model3.add(Activation('tanh'))\n",
        "model3.add(GlobalMaxPooling2D())\n",
        "model3.add(Dense(500))\n",
        "model3.add(Dropout(0.25))\n",
        "model3.add(Dense(num_classes))\n",
        "model3.add(Activation('softmax'))"
      ],
      "execution_count": 0,
      "outputs": []
    },
    {
      "metadata": {
        "id": "1XhosmVzVFxB",
        "colab_type": "code",
        "colab": {}
      },
      "cell_type": "code",
      "source": [
        "#opt = keras.optimizers.Adam(lr=0.0001)\n",
        "model3.compile(loss='categorical_crossentropy',\n",
        "              optimizer=\"Adamax\",\n",
        "              metrics=['accuracy'])"
      ],
      "execution_count": 0,
      "outputs": []
    },
    {
      "metadata": {
        "id": "_6o397mjVHsv",
        "colab_type": "code",
        "colab": {
          "base_uri": "https://localhost:8080/",
          "height": 6988
        },
        "outputId": "e53a1153-54f6-4f68-e043-fdf59bcb5534"
      },
      "cell_type": "code",
      "source": [
        " m3=model3.fit(x_train, y_train,\n",
        "              batch_size=batch_size,\n",
        "              epochs=200,\n",
        "              validation_data=(x_test, y_test),\n",
        "              shuffle=True)"
      ],
      "execution_count": 29,
      "outputs": [
        {
          "output_type": "stream",
          "text": [
            "Train on 50000 samples, validate on 10000 samples\n",
            "Epoch 1/200\n",
            "50000/50000 [==============================] - 39s 785us/step - loss: 1.7353 - acc: 0.3506 - val_loss: 1.5968 - val_acc: 0.4051\n",
            "Epoch 2/200\n",
            " 5056/50000 [==>...........................] - ETA: 31s - loss: 1.5170 - acc: 0.4450"
          ],
          "name": "stdout"
        },
        {
          "output_type": "stream",
          "text": [
            "50000/50000 [==============================] - 37s 738us/step - loss: 1.4486 - acc: 0.4774 - val_loss: 1.3716 - val_acc: 0.5096\n",
            "Epoch 3/200\n",
            "23008/50000 [============>.................] - ETA: 18s - loss: 1.3488 - acc: 0.5145"
          ],
          "name": "stdout"
        },
        {
          "output_type": "stream",
          "text": [
            "50000/50000 [==============================] - 37s 743us/step - loss: 1.3317 - acc: 0.5212 - val_loss: 1.3240 - val_acc: 0.5255\n",
            "Epoch 4/200\n",
            "29344/50000 [================>.............] - ETA: 14s - loss: 1.2726 - acc: 0.5450"
          ],
          "name": "stdout"
        },
        {
          "output_type": "stream",
          "text": [
            "50000/50000 [==============================] - 37s 737us/step - loss: 1.2754 - acc: 0.5444 - val_loss: 1.2430 - val_acc: 0.5495\n",
            "Epoch 5/200\n",
            "31200/50000 [=================>............] - ETA: 13s - loss: 1.2246 - acc: 0.5621"
          ],
          "name": "stdout"
        },
        {
          "output_type": "stream",
          "text": [
            "50000/50000 [==============================] - 37s 739us/step - loss: 1.2229 - acc: 0.5634 - val_loss: 1.2114 - val_acc: 0.5722\n",
            "Epoch 6/200\n",
            "32928/50000 [==================>...........] - ETA: 11s - loss: 1.1837 - acc: 0.5801\b\b\b\b\b\b\b\b\b\b\b\b\b\b\b\b\b\b\b\b\b\b\b\b\b\b\b\b\b\b\b\b\b\b\b\b\b\b\b\b\b\b\b\b\b\b\b\b\b\b\b\b\b\b\b\b\b\b\b\b\b\b\b\b\b\b\b\b\b\b\b\b\b\b\b\b\b\b\b\b\b\b\b\b"
          ],
          "name": "stdout"
        },
        {
          "output_type": "stream",
          "text": [
            "50000/50000 [==============================] - 37s 737us/step - loss: 1.1902 - acc: 0.5766 - val_loss: 1.1905 - val_acc: 0.5736\n",
            "Epoch 7/200\n",
            "33568/50000 [===================>..........] - ETA: 11s - loss: 1.1526 - acc: 0.5913"
          ],
          "name": "stdout"
        },
        {
          "output_type": "stream",
          "text": [
            "50000/50000 [==============================] - 37s 738us/step - loss: 1.1562 - acc: 0.5902 - val_loss: 1.1747 - val_acc: 0.5819\n",
            "Epoch 8/200\n",
            "33568/50000 [===================>..........] - ETA: 11s - loss: 1.1300 - acc: 0.5976"
          ],
          "name": "stdout"
        },
        {
          "output_type": "stream",
          "text": [
            "50000/50000 [==============================] - 37s 735us/step - loss: 1.1300 - acc: 0.5980 - val_loss: 1.1637 - val_acc: 0.5818\n",
            "Epoch 9/200\n",
            "33184/50000 [==================>...........] - ETA: 11s - loss: 1.1065 - acc: 0.6081"
          ],
          "name": "stdout"
        },
        {
          "output_type": "stream",
          "text": [
            "50000/50000 [==============================] - 37s 738us/step - loss: 1.1081 - acc: 0.6073 - val_loss: 1.2200 - val_acc: 0.5624\n",
            "Epoch 10/200\n",
            "33504/50000 [===================>..........] - ETA: 11s - loss: 1.0720 - acc: 0.6221"
          ],
          "name": "stdout"
        },
        {
          "output_type": "stream",
          "text": [
            "50000/50000 [==============================] - 37s 733us/step - loss: 1.0809 - acc: 0.6180 - val_loss: 1.2063 - val_acc: 0.5715\n",
            "Epoch 11/200\n",
            "33568/50000 [===================>..........] - ETA: 11s - loss: 1.0597 - acc: 0.6237"
          ],
          "name": "stdout"
        },
        {
          "output_type": "stream",
          "text": [
            "50000/50000 [==============================] - 37s 736us/step - loss: 1.0677 - acc: 0.6217 - val_loss: 1.1102 - val_acc: 0.6020\n",
            "Epoch 12/200\n",
            "33824/50000 [===================>..........] - ETA: 11s - loss: 1.0435 - acc: 0.6305"
          ],
          "name": "stdout"
        },
        {
          "output_type": "stream",
          "text": [
            "50000/50000 [==============================] - 37s 734us/step - loss: 1.0448 - acc: 0.6307 - val_loss: 1.1525 - val_acc: 0.5891\n",
            "Epoch 13/200\n",
            "33472/50000 [===================>..........] - ETA: 11s - loss: 1.0360 - acc: 0.6341"
          ],
          "name": "stdout"
        },
        {
          "output_type": "stream",
          "text": [
            "50000/50000 [==============================] - 37s 733us/step - loss: 1.0369 - acc: 0.6337 - val_loss: 1.1216 - val_acc: 0.5973\n",
            "Epoch 14/200\n",
            "33184/50000 [==================>...........] - ETA: 11s - loss: 1.0033 - acc: 0.6444"
          ],
          "name": "stdout"
        },
        {
          "output_type": "stream",
          "text": [
            "50000/50000 [==============================] - 37s 733us/step - loss: 1.0143 - acc: 0.6408 - val_loss: 1.1395 - val_acc: 0.6037\n",
            "Epoch 15/200\n",
            "33728/50000 [===================>..........] - ETA: 11s - loss: 0.9980 - acc: 0.6498"
          ],
          "name": "stdout"
        },
        {
          "output_type": "stream",
          "text": [
            "50000/50000 [==============================] - 37s 732us/step - loss: 1.0027 - acc: 0.6466 - val_loss: 1.1546 - val_acc: 0.5963\n",
            "Epoch 16/200\n",
            "33952/50000 [===================>..........] - ETA: 11s - loss: 0.9805 - acc: 0.6521"
          ],
          "name": "stdout"
        },
        {
          "output_type": "stream",
          "text": [
            "50000/50000 [==============================] - 37s 737us/step - loss: 0.9881 - acc: 0.6504 - val_loss: 1.1098 - val_acc: 0.6099\n",
            "Epoch 17/200\n",
            "32800/50000 [==================>...........] - ETA: 12s - loss: 0.9659 - acc: 0.6575"
          ],
          "name": "stdout"
        },
        {
          "output_type": "stream",
          "text": [
            "50000/50000 [==============================] - 37s 736us/step - loss: 0.9752 - acc: 0.6539 - val_loss: 1.1204 - val_acc: 0.6104\n",
            "Epoch 18/200\n",
            "33312/50000 [==================>...........] - ETA: 11s - loss: 0.9593 - acc: 0.6591"
          ],
          "name": "stdout"
        },
        {
          "output_type": "stream",
          "text": [
            "50000/50000 [==============================] - 37s 735us/step - loss: 0.9700 - acc: 0.6566 - val_loss: 1.1035 - val_acc: 0.6119\n",
            "Epoch 19/200\n",
            "33568/50000 [===================>..........] - ETA: 11s - loss: 0.9597 - acc: 0.6580"
          ],
          "name": "stdout"
        },
        {
          "output_type": "stream",
          "text": [
            "50000/50000 [==============================] - 37s 739us/step - loss: 0.9579 - acc: 0.6585 - val_loss: 1.1154 - val_acc: 0.6076\n",
            "Epoch 20/200\n",
            "33632/50000 [===================>..........] - ETA: 11s - loss: 0.9354 - acc: 0.6706"
          ],
          "name": "stdout"
        },
        {
          "output_type": "stream",
          "text": [
            "50000/50000 [==============================] - 37s 734us/step - loss: 0.9460 - acc: 0.6658 - val_loss: 1.1116 - val_acc: 0.6111\n",
            "Epoch 21/200\n",
            "33120/50000 [==================>...........] - ETA: 11s - loss: 0.9335 - acc: 0.6661"
          ],
          "name": "stdout"
        },
        {
          "output_type": "stream",
          "text": [
            "50000/50000 [==============================] - 37s 734us/step - loss: 0.9359 - acc: 0.6662 - val_loss: 1.1591 - val_acc: 0.5936\n",
            "Epoch 22/200\n",
            "32992/50000 [==================>...........] - ETA: 11s - loss: 0.9264 - acc: 0.6710"
          ],
          "name": "stdout"
        },
        {
          "output_type": "stream",
          "text": [
            "50000/50000 [==============================] - 37s 735us/step - loss: 0.9298 - acc: 0.6699 - val_loss: 1.1315 - val_acc: 0.6026\n",
            "Epoch 23/200\n",
            "33344/50000 [===================>..........] - ETA: 11s - loss: 0.9167 - acc: 0.6757"
          ],
          "name": "stdout"
        },
        {
          "output_type": "stream",
          "text": [
            "50000/50000 [==============================] - 37s 737us/step - loss: 0.9193 - acc: 0.6737 - val_loss: 1.1322 - val_acc: 0.6037\n",
            "Epoch 24/200\n",
            "32736/50000 [==================>...........] - ETA: 12s - loss: 0.8961 - acc: 0.6818\b\b\b\b\b\b\b\b\b\b\b\b\b\b\b\b\b\b\b\b\b\b\b\b\b\b\b\b\b\b\b\b\b\b\b\b\b\b\b\b\b\b\b\b\b\b\b\b\b\b\b\b\b\b\b\b\b\b\b\b\b\b\b\b\b\b\b\b\b\b\b\b\b\b\b\b\b\b\b\b\b\b\b\b"
          ],
          "name": "stdout"
        },
        {
          "output_type": "stream",
          "text": [
            "50000/50000 [==============================] - 37s 735us/step - loss: 0.9027 - acc: 0.6795 - val_loss: 1.1168 - val_acc: 0.6129\n",
            "Epoch 25/200\n",
            "32608/50000 [==================>...........] - ETA: 12s - loss: 0.8850 - acc: 0.6864"
          ],
          "name": "stdout"
        },
        {
          "output_type": "stream",
          "text": [
            "50000/50000 [==============================] - 37s 736us/step - loss: 0.8961 - acc: 0.6820 - val_loss: 1.1499 - val_acc: 0.6053\n",
            "Epoch 26/200\n",
            "33408/50000 [===================>..........] - ETA: 11s - loss: 0.8759 - acc: 0.6875"
          ],
          "name": "stdout"
        },
        {
          "output_type": "stream",
          "text": [
            "50000/50000 [==============================] - 37s 733us/step - loss: 0.8887 - acc: 0.6834 - val_loss: 1.0812 - val_acc: 0.6203\n",
            "Epoch 27/200\n",
            "33088/50000 [==================>...........] - ETA: 11s - loss: 0.8617 - acc: 0.6927"
          ],
          "name": "stdout"
        },
        {
          "output_type": "stream",
          "text": [
            "50000/50000 [==============================] - 37s 735us/step - loss: 0.8757 - acc: 0.6886 - val_loss: 1.0876 - val_acc: 0.6193\n",
            "Epoch 28/200\n",
            "33664/50000 [===================>..........] - ETA: 11s - loss: 0.8560 - acc: 0.6961"
          ],
          "name": "stdout"
        },
        {
          "output_type": "stream",
          "text": [
            "50000/50000 [==============================] - 37s 736us/step - loss: 0.8714 - acc: 0.6904 - val_loss: 1.0964 - val_acc: 0.6184\n",
            "Epoch 29/200\n",
            "33280/50000 [==================>...........] - ETA: 11s - loss: 0.8640 - acc: 0.6911"
          ],
          "name": "stdout"
        },
        {
          "output_type": "stream",
          "text": [
            "50000/50000 [==============================] - 37s 738us/step - loss: 0.8665 - acc: 0.6912 - val_loss: 1.1199 - val_acc: 0.6213\n",
            "Epoch 30/200\n",
            "34144/50000 [===================>..........] - ETA: 11s - loss: 0.8426 - acc: 0.7023"
          ],
          "name": "stdout"
        },
        {
          "output_type": "stream",
          "text": [
            "50000/50000 [==============================] - 37s 735us/step - loss: 0.8583 - acc: 0.6954 - val_loss: 1.1106 - val_acc: 0.6111\n",
            "Epoch 31/200\n",
            "32576/50000 [==================>...........] - ETA: 12s - loss: 0.8389 - acc: 0.7013"
          ],
          "name": "stdout"
        },
        {
          "output_type": "stream",
          "text": [
            "50000/50000 [==============================] - 37s 736us/step - loss: 0.8487 - acc: 0.6978 - val_loss: 1.1335 - val_acc: 0.6114\n",
            "Epoch 32/200\n",
            "33184/50000 [==================>...........] - ETA: 11s - loss: 0.8395 - acc: 0.7020"
          ],
          "name": "stdout"
        },
        {
          "output_type": "stream",
          "text": [
            "50000/50000 [==============================] - 37s 739us/step - loss: 0.8479 - acc: 0.7005 - val_loss: 1.0936 - val_acc: 0.6267\n",
            "Epoch 33/200\n",
            "33728/50000 [===================>..........] - ETA: 11s - loss: 0.8294 - acc: 0.7032"
          ],
          "name": "stdout"
        },
        {
          "output_type": "stream",
          "text": [
            "50000/50000 [==============================] - 37s 737us/step - loss: 0.8409 - acc: 0.7012 - val_loss: 1.0933 - val_acc: 0.6235\n",
            "Epoch 34/200\n",
            "33536/50000 [===================>..........] - ETA: 11s - loss: 0.8336 - acc: 0.7056"
          ],
          "name": "stdout"
        },
        {
          "output_type": "stream",
          "text": [
            "50000/50000 [==============================] - 37s 733us/step - loss: 0.8325 - acc: 0.7043 - val_loss: 1.1337 - val_acc: 0.6055\n",
            "Epoch 35/200\n",
            "33472/50000 [===================>..........] - ETA: 11s - loss: 0.8075 - acc: 0.7123"
          ],
          "name": "stdout"
        },
        {
          "output_type": "stream",
          "text": [
            "50000/50000 [==============================] - 37s 735us/step - loss: 0.8184 - acc: 0.7078 - val_loss: 1.1069 - val_acc: 0.6159\n",
            "Epoch 36/200\n",
            "32160/50000 [==================>...........] - ETA: 12s - loss: 0.8068 - acc: 0.7143"
          ],
          "name": "stdout"
        },
        {
          "output_type": "stream",
          "text": [
            "50000/50000 [==============================] - 37s 740us/step - loss: 0.8181 - acc: 0.7098 - val_loss: 1.0917 - val_acc: 0.6272\n",
            "Epoch 37/200\n",
            "33024/50000 [==================>...........] - ETA: 11s - loss: 0.7925 - acc: 0.7202"
          ],
          "name": "stdout"
        },
        {
          "output_type": "stream",
          "text": [
            "50000/50000 [==============================] - 37s 736us/step - loss: 0.8076 - acc: 0.7155 - val_loss: 1.1330 - val_acc: 0.6146\n",
            "Epoch 38/200\n",
            "33760/50000 [===================>..........] - ETA: 11s - loss: 0.7943 - acc: 0.7193"
          ],
          "name": "stdout"
        },
        {
          "output_type": "stream",
          "text": [
            "50000/50000 [==============================] - 37s 741us/step - loss: 0.8021 - acc: 0.7163 - val_loss: 1.1403 - val_acc: 0.6168\n",
            "Epoch 39/200\n",
            "33088/50000 [==================>...........] - ETA: 11s - loss: 0.7820 - acc: 0.7208"
          ],
          "name": "stdout"
        },
        {
          "output_type": "stream",
          "text": [
            "50000/50000 [==============================] - 37s 742us/step - loss: 0.7968 - acc: 0.7158 - val_loss: 1.1172 - val_acc: 0.6208\n",
            "Epoch 40/200\n",
            "33312/50000 [==================>...........] - ETA: 11s - loss: 0.7807 - acc: 0.7230"
          ],
          "name": "stdout"
        },
        {
          "output_type": "stream",
          "text": [
            "50000/50000 [==============================] - 37s 738us/step - loss: 0.7905 - acc: 0.7198 - val_loss: 1.1344 - val_acc: 0.6122\n",
            "Epoch 41/200\n",
            "33536/50000 [===================>..........] - ETA: 11s - loss: 0.7791 - acc: 0.7223"
          ],
          "name": "stdout"
        },
        {
          "output_type": "stream",
          "text": [
            "50000/50000 [==============================] - 37s 734us/step - loss: 0.7878 - acc: 0.7205 - val_loss: 1.1266 - val_acc: 0.6252\n",
            "Epoch 42/200\n",
            "33632/50000 [===================>..........] - ETA: 11s - loss: 0.7668 - acc: 0.7288"
          ],
          "name": "stdout"
        },
        {
          "output_type": "stream",
          "text": [
            "50000/50000 [==============================] - 37s 735us/step - loss: 0.7800 - acc: 0.7237 - val_loss: 1.1317 - val_acc: 0.6152\n",
            "Epoch 43/200\n",
            "32992/50000 [==================>...........] - ETA: 11s - loss: 0.7647 - acc: 0.7264"
          ],
          "name": "stdout"
        },
        {
          "output_type": "stream",
          "text": [
            "50000/50000 [==============================] - 37s 735us/step - loss: 0.7803 - acc: 0.7216 - val_loss: 1.1381 - val_acc: 0.6155\n",
            "Epoch 44/200\n",
            "32736/50000 [==================>...........] - ETA: 12s - loss: 0.7644 - acc: 0.7298"
          ],
          "name": "stdout"
        },
        {
          "output_type": "stream",
          "text": [
            "50000/50000 [==============================] - 37s 739us/step - loss: 0.7728 - acc: 0.7265 - val_loss: 1.1445 - val_acc: 0.6175\n",
            "Epoch 45/200\n",
            "32864/50000 [==================>...........] - ETA: 11s - loss: 0.7557 - acc: 0.7340"
          ],
          "name": "stdout"
        },
        {
          "output_type": "stream",
          "text": [
            "50000/50000 [==============================] - 37s 737us/step - loss: 0.7690 - acc: 0.7287 - val_loss: 1.1246 - val_acc: 0.6219\n",
            "Epoch 46/200\n",
            "32864/50000 [==================>...........] - ETA: 11s - loss: 0.7493 - acc: 0.7335"
          ],
          "name": "stdout"
        },
        {
          "output_type": "stream",
          "text": [
            "50000/50000 [==============================] - 37s 737us/step - loss: 0.7654 - acc: 0.7281 - val_loss: 1.1378 - val_acc: 0.6143\n",
            "Epoch 47/200\n",
            "32992/50000 [==================>...........] - ETA: 11s - loss: 0.7544 - acc: 0.7324"
          ],
          "name": "stdout"
        },
        {
          "output_type": "stream",
          "text": [
            "50000/50000 [==============================] - 37s 738us/step - loss: 0.7551 - acc: 0.7324 - val_loss: 1.1376 - val_acc: 0.6176\n",
            "Epoch 48/200\n",
            "33248/50000 [==================>...........] - ETA: 11s - loss: 0.7360 - acc: 0.7385"
          ],
          "name": "stdout"
        },
        {
          "output_type": "stream",
          "text": [
            "50000/50000 [==============================] - 37s 736us/step - loss: 0.7476 - acc: 0.7328 - val_loss: 1.1214 - val_acc: 0.6245\n",
            "Epoch 49/200\n",
            "33248/50000 [==================>...........] - ETA: 11s - loss: 0.7473 - acc: 0.7339"
          ],
          "name": "stdout"
        },
        {
          "output_type": "stream",
          "text": [
            "50000/50000 [==============================] - 37s 738us/step - loss: 0.7543 - acc: 0.7323 - val_loss: 1.1434 - val_acc: 0.6136\n",
            "Epoch 50/200\n",
            "33024/50000 [==================>...........] - ETA: 11s - loss: 0.7373 - acc: 0.7376"
          ],
          "name": "stdout"
        },
        {
          "output_type": "stream",
          "text": [
            "50000/50000 [==============================] - 37s 737us/step - loss: 0.7488 - acc: 0.7349 - val_loss: 1.1476 - val_acc: 0.6154\n",
            "Epoch 51/200\n",
            "33216/50000 [==================>...........] - ETA: 11s - loss: 0.7268 - acc: 0.7413"
          ],
          "name": "stdout"
        },
        {
          "output_type": "stream",
          "text": [
            "50000/50000 [==============================] - 37s 741us/step - loss: 0.7390 - acc: 0.7372 - val_loss: 1.1447 - val_acc: 0.6165\n",
            "Epoch 52/200\n",
            "34016/50000 [===================>..........] - ETA: 11s - loss: 0.7309 - acc: 0.7383"
          ],
          "name": "stdout"
        },
        {
          "output_type": "stream",
          "text": [
            "50000/50000 [==============================] - 37s 735us/step - loss: 0.7393 - acc: 0.7362 - val_loss: 1.1362 - val_acc: 0.6213\n",
            "Epoch 53/200\n",
            "33728/50000 [===================>..........] - ETA: 11s - loss: 0.7306 - acc: 0.7413"
          ],
          "name": "stdout"
        },
        {
          "output_type": "stream",
          "text": [
            "50000/50000 [==============================] - 37s 735us/step - loss: 0.7440 - acc: 0.7351 - val_loss: 1.1612 - val_acc: 0.6154\n",
            "Epoch 54/200\n",
            "33472/50000 [===================>..........] - ETA: 11s - loss: 0.7230 - acc: 0.7414"
          ],
          "name": "stdout"
        },
        {
          "output_type": "stream",
          "text": [
            "50000/50000 [==============================] - 37s 741us/step - loss: 0.7361 - acc: 0.7375 - val_loss: 1.1268 - val_acc: 0.6226\n",
            "Epoch 55/200\n",
            "32544/50000 [==================>...........] - ETA: 12s - loss: 0.7168 - acc: 0.7432"
          ],
          "name": "stdout"
        },
        {
          "output_type": "stream",
          "text": [
            "50000/50000 [==============================] - 37s 738us/step - loss: 0.7214 - acc: 0.7425 - val_loss: 1.1616 - val_acc: 0.6186\n",
            "Epoch 56/200\n",
            "32096/50000 [==================>...........] - ETA: 12s - loss: 0.7171 - acc: 0.7484"
          ],
          "name": "stdout"
        },
        {
          "output_type": "stream",
          "text": [
            "50000/50000 [==============================] - 37s 736us/step - loss: 0.7280 - acc: 0.7431 - val_loss: 1.1652 - val_acc: 0.6139\n",
            "Epoch 57/200\n",
            "32832/50000 [==================>...........] - ETA: 11s - loss: 0.7130 - acc: 0.7440"
          ],
          "name": "stdout"
        },
        {
          "output_type": "stream",
          "text": [
            "50000/50000 [==============================] - 37s 737us/step - loss: 0.7235 - acc: 0.7408 - val_loss: 1.1461 - val_acc: 0.6187\n",
            "Epoch 58/200\n",
            "33376/50000 [===================>..........] - ETA: 11s - loss: 0.7046 - acc: 0.7491"
          ],
          "name": "stdout"
        },
        {
          "output_type": "stream",
          "text": [
            "50000/50000 [==============================] - 37s 732us/step - loss: 0.7165 - acc: 0.7448 - val_loss: 1.1585 - val_acc: 0.6179\n",
            "Epoch 59/200\n",
            "33472/50000 [===================>..........] - ETA: 11s - loss: 0.7082 - acc: 0.7459"
          ],
          "name": "stdout"
        },
        {
          "output_type": "stream",
          "text": [
            "50000/50000 [==============================] - 37s 737us/step - loss: 0.7205 - acc: 0.7435 - val_loss: 1.1926 - val_acc: 0.6073\n",
            "Epoch 60/200\n",
            "33472/50000 [===================>..........] - ETA: 11s - loss: 0.7046 - acc: 0.7487"
          ],
          "name": "stdout"
        },
        {
          "output_type": "stream",
          "text": [
            "50000/50000 [==============================] - 37s 736us/step - loss: 0.7092 - acc: 0.7472 - val_loss: 1.1611 - val_acc: 0.6228\n",
            "Epoch 61/200\n",
            "33344/50000 [===================>..........] - ETA: 11s - loss: 0.7026 - acc: 0.7485"
          ],
          "name": "stdout"
        },
        {
          "output_type": "stream",
          "text": [
            "50000/50000 [==============================] - 37s 742us/step - loss: 0.7124 - acc: 0.7455 - val_loss: 1.1376 - val_acc: 0.6250\n",
            "Epoch 62/200\n",
            "32672/50000 [==================>...........] - ETA: 12s - loss: 0.6903 - acc: 0.7529"
          ],
          "name": "stdout"
        },
        {
          "output_type": "stream",
          "text": [
            "50000/50000 [==============================] - 37s 735us/step - loss: 0.7079 - acc: 0.7459 - val_loss: 1.1665 - val_acc: 0.6131\n",
            "Epoch 63/200\n",
            "33440/50000 [===================>..........] - ETA: 11s - loss: 0.7142 - acc: 0.7442"
          ],
          "name": "stdout"
        },
        {
          "output_type": "stream",
          "text": [
            "50000/50000 [==============================] - 37s 735us/step - loss: 0.7184 - acc: 0.7438 - val_loss: 1.1843 - val_acc: 0.6182\n",
            "Epoch 64/200\n",
            "32384/50000 [==================>...........] - ETA: 12s - loss: 0.6924 - acc: 0.7526"
          ],
          "name": "stdout"
        },
        {
          "output_type": "stream",
          "text": [
            "50000/50000 [==============================] - 37s 736us/step - loss: 0.7092 - acc: 0.7478 - val_loss: 1.1490 - val_acc: 0.6177\n",
            "Epoch 65/200\n",
            "31968/50000 [==================>...........] - ETA: 12s - loss: 0.7006 - acc: 0.7499"
          ],
          "name": "stdout"
        },
        {
          "output_type": "stream",
          "text": [
            "50000/50000 [==============================] - 37s 742us/step - loss: 0.7140 - acc: 0.7450 - val_loss: 1.1643 - val_acc: 0.6157\n",
            "Epoch 66/200\n",
            "32672/50000 [==================>...........] - ETA: 12s - loss: 0.6967 - acc: 0.7496"
          ],
          "name": "stdout"
        },
        {
          "output_type": "stream",
          "text": [
            "50000/50000 [==============================] - 37s 738us/step - loss: 0.6995 - acc: 0.7495 - val_loss: 1.1933 - val_acc: 0.6163\n",
            "Epoch 67/200\n",
            "33376/50000 [===================>..........] - ETA: 11s - loss: 0.6946 - acc: 0.7547"
          ],
          "name": "stdout"
        },
        {
          "output_type": "stream",
          "text": [
            "50000/50000 [==============================] - 37s 737us/step - loss: 0.7001 - acc: 0.7515 - val_loss: 1.1871 - val_acc: 0.6101\n",
            "Epoch 68/200\n",
            "32768/50000 [==================>...........] - ETA: 12s - loss: 0.6936 - acc: 0.7546"
          ],
          "name": "stdout"
        },
        {
          "output_type": "stream",
          "text": [
            "50000/50000 [==============================] - 37s 737us/step - loss: 0.7049 - acc: 0.7518 - val_loss: 1.1592 - val_acc: 0.6222\n",
            "Epoch 69/200\n",
            "32736/50000 [==================>...........] - ETA: 12s - loss: 0.6919 - acc: 0.7547"
          ],
          "name": "stdout"
        },
        {
          "output_type": "stream",
          "text": [
            "50000/50000 [==============================] - 37s 743us/step - loss: 0.7026 - acc: 0.7518 - val_loss: 1.1838 - val_acc: 0.6207\n",
            "Epoch 70/200\n",
            "32736/50000 [==================>...........] - ETA: 12s - loss: 0.6885 - acc: 0.7544"
          ],
          "name": "stdout"
        },
        {
          "output_type": "stream",
          "text": [
            "50000/50000 [==============================] - 37s 739us/step - loss: 0.6918 - acc: 0.7541 - val_loss: 1.1878 - val_acc: 0.6152\n",
            "Epoch 71/200\n",
            "33440/50000 [===================>..........] - ETA: 11s - loss: 0.6871 - acc: 0.7558"
          ],
          "name": "stdout"
        },
        {
          "output_type": "stream",
          "text": [
            "50000/50000 [==============================] - 37s 740us/step - loss: 0.6979 - acc: 0.7507 - val_loss: 1.2300 - val_acc: 0.6078\n",
            "Epoch 72/200\n",
            "33504/50000 [===================>..........] - ETA: 11s - loss: 0.6869 - acc: 0.7561"
          ],
          "name": "stdout"
        },
        {
          "output_type": "stream",
          "text": [
            "50000/50000 [==============================] - 37s 738us/step - loss: 0.7016 - acc: 0.7496 - val_loss: 1.1919 - val_acc: 0.6128\n",
            "Epoch 73/200\n",
            "33280/50000 [==================>...........] - ETA: 11s - loss: 0.6841 - acc: 0.7565"
          ],
          "name": "stdout"
        },
        {
          "output_type": "stream",
          "text": [
            "50000/50000 [==============================] - 37s 739us/step - loss: 0.6964 - acc: 0.7520 - val_loss: 1.2020 - val_acc: 0.6101\n",
            "Epoch 74/200\n",
            "33280/50000 [==================>...........] - ETA: 11s - loss: 0.6935 - acc: 0.7523"
          ],
          "name": "stdout"
        },
        {
          "output_type": "stream",
          "text": [
            "50000/50000 [==============================] - 37s 735us/step - loss: 0.6983 - acc: 0.7509 - val_loss: 1.2032 - val_acc: 0.6154\n",
            "Epoch 75/200\n",
            "34240/50000 [===================>..........] - ETA: 10s - loss: 0.6810 - acc: 0.7583"
          ],
          "name": "stdout"
        },
        {
          "output_type": "stream",
          "text": [
            "50000/50000 [==============================] - 37s 737us/step - loss: 0.6954 - acc: 0.7524 - val_loss: 1.1767 - val_acc: 0.6194\n",
            "Epoch 76/200\n",
            "33472/50000 [===================>..........] - ETA: 11s - loss: 0.6698 - acc: 0.7602"
          ],
          "name": "stdout"
        },
        {
          "output_type": "stream",
          "text": [
            "50000/50000 [==============================] - 37s 738us/step - loss: 0.6838 - acc: 0.7554 - val_loss: 1.1967 - val_acc: 0.6114\n",
            "Epoch 77/200\n",
            "33632/50000 [===================>..........] - ETA: 11s - loss: 0.6860 - acc: 0.7557"
          ],
          "name": "stdout"
        },
        {
          "output_type": "stream",
          "text": [
            "50000/50000 [==============================] - 37s 735us/step - loss: 0.6863 - acc: 0.7548 - val_loss: 1.2556 - val_acc: 0.5987\n",
            "Epoch 78/200\n",
            "33152/50000 [==================>...........] - ETA: 11s - loss: 0.6782 - acc: 0.7599"
          ],
          "name": "stdout"
        },
        {
          "output_type": "stream",
          "text": [
            "50000/50000 [==============================] - 37s 738us/step - loss: 0.6888 - acc: 0.7558 - val_loss: 1.1848 - val_acc: 0.6170\n",
            "Epoch 79/200\n",
            "32192/50000 [==================>...........] - ETA: 12s - loss: 0.6661 - acc: 0.7618"
          ],
          "name": "stdout"
        },
        {
          "output_type": "stream",
          "text": [
            "50000/50000 [==============================] - 37s 738us/step - loss: 0.6760 - acc: 0.7584 - val_loss: 1.1944 - val_acc: 0.6139\n",
            "Epoch 80/200\n",
            "32800/50000 [==================>...........] - ETA: 12s - loss: 0.6691 - acc: 0.7619"
          ],
          "name": "stdout"
        },
        {
          "output_type": "stream",
          "text": [
            "50000/50000 [==============================] - 37s 739us/step - loss: 0.6835 - acc: 0.7566 - val_loss: 1.1877 - val_acc: 0.6217\n",
            "Epoch 81/200\n",
            "32672/50000 [==================>...........] - ETA: 12s - loss: 0.6717 - acc: 0.7593"
          ],
          "name": "stdout"
        },
        {
          "output_type": "stream",
          "text": [
            "50000/50000 [==============================] - 37s 737us/step - loss: 0.6764 - acc: 0.7587 - val_loss: 1.2095 - val_acc: 0.6174\n",
            "Epoch 82/200\n",
            "32640/50000 [==================>...........] - ETA: 12s - loss: 0.6610 - acc: 0.7636"
          ],
          "name": "stdout"
        },
        {
          "output_type": "stream",
          "text": [
            "50000/50000 [==============================] - 37s 737us/step - loss: 0.6759 - acc: 0.7580 - val_loss: 1.2180 - val_acc: 0.6133\n",
            "Epoch 83/200\n",
            "33024/50000 [==================>...........] - ETA: 11s - loss: 0.6630 - acc: 0.7634"
          ],
          "name": "stdout"
        },
        {
          "output_type": "stream",
          "text": [
            "50000/50000 [==============================] - 37s 734us/step - loss: 0.6761 - acc: 0.7578 - val_loss: 1.1889 - val_acc: 0.6170\n",
            "Epoch 84/200\n",
            "33408/50000 [===================>..........] - ETA: 11s - loss: 0.6651 - acc: 0.7626"
          ],
          "name": "stdout"
        },
        {
          "output_type": "stream",
          "text": [
            "50000/50000 [==============================] - 37s 739us/step - loss: 0.6735 - acc: 0.7601 - val_loss: 1.1799 - val_acc: 0.6215\n",
            "Epoch 85/200\n",
            "32928/50000 [==================>...........] - ETA: 11s - loss: 0.6654 - acc: 0.7631"
          ],
          "name": "stdout"
        },
        {
          "output_type": "stream",
          "text": [
            "50000/50000 [==============================] - 37s 738us/step - loss: 0.6719 - acc: 0.7605 - val_loss: 1.1933 - val_acc: 0.6132\n",
            "Epoch 86/200\n",
            "33568/50000 [===================>..........] - ETA: 11s - loss: 0.6719 - acc: 0.7596"
          ],
          "name": "stdout"
        },
        {
          "output_type": "stream",
          "text": [
            "50000/50000 [==============================] - 37s 737us/step - loss: 0.6791 - acc: 0.7566 - val_loss: 1.2117 - val_acc: 0.6083\n",
            "Epoch 87/200\n",
            "33632/50000 [===================>..........] - ETA: 11s - loss: 0.6708 - acc: 0.7600"
          ],
          "name": "stdout"
        },
        {
          "output_type": "stream",
          "text": [
            "50000/50000 [==============================] - 37s 739us/step - loss: 0.6831 - acc: 0.7562 - val_loss: 1.2122 - val_acc: 0.6078\n",
            "Epoch 88/200\n",
            "32576/50000 [==================>...........] - ETA: 12s - loss: 0.6812 - acc: 0.7553"
          ],
          "name": "stdout"
        },
        {
          "output_type": "stream",
          "text": [
            "50000/50000 [==============================] - 37s 738us/step - loss: 0.6845 - acc: 0.7546 - val_loss: 1.2028 - val_acc: 0.6153\n",
            "Epoch 89/200\n",
            "33184/50000 [==================>...........] - ETA: 11s - loss: 0.6711 - acc: 0.7595"
          ],
          "name": "stdout"
        },
        {
          "output_type": "stream",
          "text": [
            "50000/50000 [==============================] - 37s 735us/step - loss: 0.6815 - acc: 0.7560 - val_loss: 1.1848 - val_acc: 0.6152\n",
            "Epoch 90/200\n",
            "32512/50000 [==================>...........] - ETA: 12s - loss: 0.6756 - acc: 0.7585"
          ],
          "name": "stdout"
        },
        {
          "output_type": "stream",
          "text": [
            "50000/50000 [==============================] - 37s 742us/step - loss: 0.6817 - acc: 0.7554 - val_loss: 1.1849 - val_acc: 0.6078\n",
            "Epoch 91/200\n",
            "32832/50000 [==================>...........] - ETA: 11s - loss: 0.6686 - acc: 0.7576"
          ],
          "name": "stdout"
        },
        {
          "output_type": "stream",
          "text": [
            "50000/50000 [==============================] - 37s 737us/step - loss: 0.6818 - acc: 0.7538 - val_loss: 1.1891 - val_acc: 0.6149\n",
            "Epoch 92/200\n",
            "33152/50000 [==================>...........] - ETA: 11s - loss: 0.6750 - acc: 0.7601"
          ],
          "name": "stdout"
        },
        {
          "output_type": "stream",
          "text": [
            "50000/50000 [==============================] - 37s 734us/step - loss: 0.6818 - acc: 0.7567 - val_loss: 1.2193 - val_acc: 0.6063\n",
            "Epoch 93/200\n",
            "33152/50000 [==================>...........] - ETA: 11s - loss: 0.6786 - acc: 0.7587"
          ],
          "name": "stdout"
        },
        {
          "output_type": "stream",
          "text": [
            "50000/50000 [==============================] - 37s 736us/step - loss: 0.6885 - acc: 0.7546 - val_loss: 1.1885 - val_acc: 0.6156\n",
            "Epoch 94/200\n",
            "33280/50000 [==================>...........] - ETA: 11s - loss: 0.6868 - acc: 0.7535"
          ],
          "name": "stdout"
        },
        {
          "output_type": "stream",
          "text": [
            "50000/50000 [==============================] - 37s 734us/step - loss: 0.6902 - acc: 0.7522 - val_loss: 1.2146 - val_acc: 0.6111\n",
            "Epoch 95/200\n",
            "33024/50000 [==================>...........] - ETA: 11s - loss: 0.6675 - acc: 0.7575"
          ],
          "name": "stdout"
        },
        {
          "output_type": "stream",
          "text": [
            "50000/50000 [==============================] - 37s 733us/step - loss: 0.6803 - acc: 0.7529 - val_loss: 1.1956 - val_acc: 0.6147\n",
            "Epoch 96/200\n",
            "32864/50000 [==================>...........] - ETA: 11s - loss: 0.6543 - acc: 0.7642"
          ],
          "name": "stdout"
        },
        {
          "output_type": "stream",
          "text": [
            "50000/50000 [==============================] - 37s 736us/step - loss: 0.6627 - acc: 0.7630 - val_loss: 1.2023 - val_acc: 0.6148\n",
            "Epoch 97/200\n",
            "34336/50000 [===================>..........] - ETA: 10s - loss: 0.6717 - acc: 0.7619"
          ],
          "name": "stdout"
        },
        {
          "output_type": "stream",
          "text": [
            "50000/50000 [==============================] - 37s 733us/step - loss: 0.6776 - acc: 0.7582 - val_loss: 1.2246 - val_acc: 0.6055\n",
            "Epoch 98/200\n",
            "32960/50000 [==================>...........] - ETA: 11s - loss: 0.6673 - acc: 0.7613"
          ],
          "name": "stdout"
        },
        {
          "output_type": "stream",
          "text": [
            "50000/50000 [==============================] - 37s 738us/step - loss: 0.6788 - acc: 0.7568 - val_loss: 1.2329 - val_acc: 0.5995\n",
            "Epoch 99/200\n",
            "33472/50000 [===================>..........] - ETA: 11s - loss: 0.6678 - acc: 0.7610"
          ],
          "name": "stdout"
        },
        {
          "output_type": "stream",
          "text": [
            "50000/50000 [==============================] - 37s 740us/step - loss: 0.6811 - acc: 0.7566 - val_loss: 1.2086 - val_acc: 0.6091\n",
            "Epoch 100/200\n",
            "33344/50000 [===================>..........] - ETA: 11s - loss: 0.6649 - acc: 0.7592"
          ],
          "name": "stdout"
        },
        {
          "output_type": "stream",
          "text": [
            "50000/50000 [==============================] - 37s 738us/step - loss: 0.6736 - acc: 0.7571 - val_loss: 1.2059 - val_acc: 0.6077\n",
            "Epoch 101/200\n",
            "33024/50000 [==================>...........] - ETA: 11s - loss: 0.6716 - acc: 0.7616"
          ],
          "name": "stdout"
        },
        {
          "output_type": "stream",
          "text": [
            "50000/50000 [==============================] - 37s 736us/step - loss: 0.6765 - acc: 0.7583 - val_loss: 1.2100 - val_acc: 0.6148\n",
            "Epoch 102/200\n",
            "33280/50000 [==================>...........] - ETA: 11s - loss: 0.6804 - acc: 0.7573"
          ],
          "name": "stdout"
        },
        {
          "output_type": "stream",
          "text": [
            "50000/50000 [==============================] - 37s 738us/step - loss: 0.6880 - acc: 0.7537 - val_loss: 1.2100 - val_acc: 0.6092\n",
            "Epoch 103/200\n",
            "33280/50000 [==================>...........] - ETA: 11s - loss: 0.6672 - acc: 0.7618"
          ],
          "name": "stdout"
        },
        {
          "output_type": "stream",
          "text": [
            "50000/50000 [==============================] - 37s 737us/step - loss: 0.6762 - acc: 0.7588 - val_loss: 1.2083 - val_acc: 0.6134\n",
            "Epoch 104/200\n",
            "32960/50000 [==================>...........] - ETA: 11s - loss: 0.6666 - acc: 0.7614"
          ],
          "name": "stdout"
        },
        {
          "output_type": "stream",
          "text": [
            "50000/50000 [==============================] - 37s 735us/step - loss: 0.6793 - acc: 0.7562 - val_loss: 1.1881 - val_acc: 0.6171\n",
            "Epoch 105/200\n",
            "32800/50000 [==================>...........] - ETA: 11s - loss: 0.6669 - acc: 0.7615"
          ],
          "name": "stdout"
        },
        {
          "output_type": "stream",
          "text": [
            "50000/50000 [==============================] - 37s 732us/step - loss: 0.6791 - acc: 0.7564 - val_loss: 1.1825 - val_acc: 0.6123\n",
            "Epoch 106/200\n",
            "32512/50000 [==================>...........] - ETA: 12s - loss: 0.6626 - acc: 0.7609"
          ],
          "name": "stdout"
        },
        {
          "output_type": "stream",
          "text": [
            "50000/50000 [==============================] - 37s 740us/step - loss: 0.6739 - acc: 0.7579 - val_loss: 1.2124 - val_acc: 0.6105\n",
            "Epoch 107/200\n",
            "32608/50000 [==================>...........] - ETA: 12s - loss: 0.6670 - acc: 0.7618"
          ],
          "name": "stdout"
        },
        {
          "output_type": "stream",
          "text": [
            "50000/50000 [==============================] - 37s 741us/step - loss: 0.6794 - acc: 0.7575 - val_loss: 1.2526 - val_acc: 0.5971\n",
            "Epoch 108/200\n",
            "32384/50000 [==================>...........] - ETA: 12s - loss: 0.6872 - acc: 0.7544"
          ],
          "name": "stdout"
        },
        {
          "output_type": "stream",
          "text": [
            "50000/50000 [==============================] - 37s 742us/step - loss: 0.6881 - acc: 0.7536 - val_loss: 1.1908 - val_acc: 0.6136\n",
            "Epoch 109/200\n",
            "32128/50000 [==================>...........] - ETA: 12s - loss: 0.6762 - acc: 0.7590"
          ],
          "name": "stdout"
        },
        {
          "output_type": "stream",
          "text": [
            "50000/50000 [==============================] - 37s 739us/step - loss: 0.6815 - acc: 0.7564 - val_loss: 1.2152 - val_acc: 0.6106\n",
            "Epoch 110/200\n",
            "33120/50000 [==================>...........] - ETA: 11s - loss: 0.6637 - acc: 0.7611"
          ],
          "name": "stdout"
        },
        {
          "output_type": "stream",
          "text": [
            "50000/50000 [==============================] - 37s 739us/step - loss: 0.6760 - acc: 0.7551 - val_loss: 1.1956 - val_acc: 0.6123\n",
            "Epoch 111/200\n",
            "32672/50000 [==================>...........] - ETA: 12s - loss: 0.6715 - acc: 0.7607"
          ],
          "name": "stdout"
        },
        {
          "output_type": "stream",
          "text": [
            "50000/50000 [==============================] - 37s 744us/step - loss: 0.6821 - acc: 0.7573 - val_loss: 1.2060 - val_acc: 0.6088\n",
            "Epoch 112/200\n",
            "32960/50000 [==================>...........] - ETA: 11s - loss: 0.6892 - acc: 0.7532"
          ],
          "name": "stdout"
        },
        {
          "output_type": "stream",
          "text": [
            "50000/50000 [==============================] - 37s 741us/step - loss: 0.6905 - acc: 0.7534 - val_loss: 1.2006 - val_acc: 0.6117\n",
            "Epoch 113/200\n",
            "32288/50000 [==================>...........] - ETA: 12s - loss: 0.6916 - acc: 0.7496"
          ],
          "name": "stdout"
        },
        {
          "output_type": "stream",
          "text": [
            "50000/50000 [==============================] - 37s 740us/step - loss: 0.7011 - acc: 0.7472 - val_loss: 1.1884 - val_acc: 0.6184\n",
            "Epoch 114/200\n",
            "32384/50000 [==================>...........] - ETA: 12s - loss: 0.6858 - acc: 0.7531"
          ],
          "name": "stdout"
        },
        {
          "output_type": "stream",
          "text": [
            "50000/50000 [==============================] - 37s 735us/step - loss: 0.6957 - acc: 0.7506 - val_loss: 1.1884 - val_acc: 0.6195\n",
            "Epoch 115/200\n",
            "33600/50000 [===================>..........] - ETA: 11s - loss: 0.6847 - acc: 0.7529"
          ],
          "name": "stdout"
        },
        {
          "output_type": "stream",
          "text": [
            "50000/50000 [==============================] - 37s 738us/step - loss: 0.6936 - acc: 0.7505 - val_loss: 1.2161 - val_acc: 0.6131\n",
            "Epoch 116/200\n",
            "33280/50000 [==================>...........] - ETA: 11s - loss: 0.7026 - acc: 0.7473"
          ],
          "name": "stdout"
        },
        {
          "output_type": "stream",
          "text": [
            "50000/50000 [==============================] - 37s 739us/step - loss: 0.7064 - acc: 0.7474 - val_loss: 1.1984 - val_acc: 0.6119\n",
            "Epoch 117/200\n",
            "33504/50000 [===================>..........] - ETA: 11s - loss: 0.6849 - acc: 0.7535"
          ],
          "name": "stdout"
        },
        {
          "output_type": "stream",
          "text": [
            "50000/50000 [==============================] - 37s 739us/step - loss: 0.6950 - acc: 0.7511 - val_loss: 1.1907 - val_acc: 0.6101\n",
            "Epoch 118/200\n",
            "32736/50000 [==================>...........] - ETA: 12s - loss: 0.6819 - acc: 0.7544"
          ],
          "name": "stdout"
        },
        {
          "output_type": "stream",
          "text": [
            "50000/50000 [==============================] - 37s 738us/step - loss: 0.6935 - acc: 0.7503 - val_loss: 1.1866 - val_acc: 0.6165\n",
            "Epoch 119/200\n",
            "32640/50000 [==================>...........] - ETA: 12s - loss: 0.6876 - acc: 0.7546"
          ],
          "name": "stdout"
        },
        {
          "output_type": "stream",
          "text": [
            "50000/50000 [==============================] - 37s 736us/step - loss: 0.6929 - acc: 0.7512 - val_loss: 1.1943 - val_acc: 0.6139\n",
            "Epoch 120/200\n",
            "32672/50000 [==================>...........] - ETA: 12s - loss: 0.6926 - acc: 0.7524"
          ],
          "name": "stdout"
        },
        {
          "output_type": "stream",
          "text": [
            "50000/50000 [==============================] - 37s 738us/step - loss: 0.7061 - acc: 0.7472 - val_loss: 1.2016 - val_acc: 0.6107\n",
            "Epoch 121/200\n",
            "32992/50000 [==================>...........] - ETA: 11s - loss: 0.6984 - acc: 0.7502"
          ],
          "name": "stdout"
        },
        {
          "output_type": "stream",
          "text": [
            "50000/50000 [==============================] - 37s 738us/step - loss: 0.7022 - acc: 0.7485 - val_loss: 1.2067 - val_acc: 0.6094\n",
            "Epoch 122/200\n",
            "33312/50000 [==================>...........] - ETA: 11s - loss: 0.6962 - acc: 0.7528"
          ],
          "name": "stdout"
        },
        {
          "output_type": "stream",
          "text": [
            "50000/50000 [==============================] - 37s 739us/step - loss: 0.7076 - acc: 0.7493 - val_loss: 1.2148 - val_acc: 0.6109\n",
            "Epoch 123/200\n",
            "32544/50000 [==================>...........] - ETA: 12s - loss: 0.6835 - acc: 0.7556"
          ],
          "name": "stdout"
        },
        {
          "output_type": "stream",
          "text": [
            "50000/50000 [==============================] - 37s 738us/step - loss: 0.6996 - acc: 0.7505 - val_loss: 1.2155 - val_acc: 0.6075\n",
            "Epoch 124/200\n",
            "32640/50000 [==================>...........] - ETA: 12s - loss: 0.6950 - acc: 0.7510"
          ],
          "name": "stdout"
        },
        {
          "output_type": "stream",
          "text": [
            "50000/50000 [==============================] - 37s 735us/step - loss: 0.7049 - acc: 0.7484 - val_loss: 1.1819 - val_acc: 0.6070\n",
            "Epoch 125/200\n",
            "32704/50000 [==================>...........] - ETA: 12s - loss: 0.7071 - acc: 0.7428"
          ],
          "name": "stdout"
        },
        {
          "output_type": "stream",
          "text": [
            "50000/50000 [==============================] - 37s 734us/step - loss: 0.7055 - acc: 0.7443 - val_loss: 1.2089 - val_acc: 0.6077\n",
            "Epoch 126/200\n",
            "33952/50000 [===================>..........]"
          ],
          "name": "stdout"
        },
        {
          "output_type": "stream",
          "text": [
            "50000/50000 [==============================] - 37s 732us/step - loss: 0.7150 - acc: 0.7436 - val_loss: 1.2182 - val_acc: 0.6031\n",
            "Epoch 127/200\n",
            "32864/50000 [==================>...........] - ETA: 12s - loss: 0.7059 - acc: 0.7458"
          ],
          "name": "stdout"
        },
        {
          "output_type": "stream",
          "text": [
            "50000/50000 [==============================] - 37s 740us/step - loss: 0.7177 - acc: 0.7427 - val_loss: 1.2156 - val_acc: 0.6027\n",
            "Epoch 128/200\n",
            "32768/50000 [==================>...........] - ETA: 11s - loss: 0.7133 - acc: 0.7463"
          ],
          "name": "stdout"
        },
        {
          "output_type": "stream",
          "text": [
            "50000/50000 [==============================] - 36s 728us/step - loss: 0.7205 - acc: 0.7426 - val_loss: 1.1817 - val_acc: 0.6087\n",
            "Epoch 129/200\n",
            "33056/50000 [==================>...........] - ETA: 11s - loss: 0.7193 - acc: 0.7411"
          ],
          "name": "stdout"
        },
        {
          "output_type": "stream",
          "text": [
            "50000/50000 [==============================] - 37s 734us/step - loss: 0.7273 - acc: 0.7392 - val_loss: 1.1678 - val_acc: 0.6136\n",
            "Epoch 130/200\n",
            "33120/50000 [==================>...........] - ETA: 11s - loss: 0.7098 - acc: 0.7464"
          ],
          "name": "stdout"
        },
        {
          "output_type": "stream",
          "text": [
            "50000/50000 [==============================] - 37s 737us/step - loss: 0.7186 - acc: 0.7437 - val_loss: 1.1811 - val_acc: 0.6182\n",
            "Epoch 131/200\n",
            "31872/50000 [==================>...........] - ETA: 12s - loss: 0.7089 - acc: 0.7485"
          ],
          "name": "stdout"
        },
        {
          "output_type": "stream",
          "text": [
            "50000/50000 [==============================] - 37s 741us/step - loss: 0.7175 - acc: 0.7448 - val_loss: 1.2087 - val_acc: 0.6064\n",
            "Epoch 132/200\n",
            "32032/50000 [==================>...........] - ETA: 12s - loss: 0.7125 - acc: 0.7449"
          ],
          "name": "stdout"
        },
        {
          "output_type": "stream",
          "text": [
            "50000/50000 [==============================] - 37s 746us/step - loss: 0.7200 - acc: 0.7407 - val_loss: 1.1811 - val_acc: 0.6108\n",
            "Epoch 133/200\n",
            "32384/50000 [==================>...........] - ETA: 12s - loss: 0.7199 - acc: 0.7435"
          ],
          "name": "stdout"
        },
        {
          "output_type": "stream",
          "text": [
            "50000/50000 [==============================] - 37s 743us/step - loss: 0.7282 - acc: 0.7409 - val_loss: 1.1923 - val_acc: 0.6038\n",
            "Epoch 134/200\n",
            "32544/50000 [==================>...........] - ETA: 12s - loss: 0.7221 - acc: 0.7400"
          ],
          "name": "stdout"
        },
        {
          "output_type": "stream",
          "text": [
            "50000/50000 [==============================] - 37s 741us/step - loss: 0.7206 - acc: 0.7400 - val_loss: 1.1767 - val_acc: 0.6116\n",
            "Epoch 135/200\n",
            "32416/50000 [==================>...........] - ETA: 12s - loss: 0.7213 - acc: 0.7427"
          ],
          "name": "stdout"
        },
        {
          "output_type": "stream",
          "text": [
            "50000/50000 [==============================] - 37s 738us/step - loss: 0.7264 - acc: 0.7412 - val_loss: 1.1968 - val_acc: 0.6076\n",
            "Epoch 136/200\n",
            "33536/50000 [===================>..........] - ETA: 11s - loss: 0.7267 - acc: 0.7415"
          ],
          "name": "stdout"
        },
        {
          "output_type": "stream",
          "text": [
            "50000/50000 [==============================] - 37s 734us/step - loss: 0.7372 - acc: 0.7382 - val_loss: 1.1586 - val_acc: 0.6173\n",
            "Epoch 137/200\n",
            "33568/50000 [===================>..........] - ETA: 11s - loss: 0.7213 - acc: 0.7418"
          ],
          "name": "stdout"
        },
        {
          "output_type": "stream",
          "text": [
            "50000/50000 [==============================] - 37s 736us/step - loss: 0.7294 - acc: 0.7399 - val_loss: 1.1845 - val_acc: 0.6151\n",
            "Epoch 138/200\n",
            "32928/50000 [==================>...........] - ETA: 11s - loss: 0.7194 - acc: 0.7405"
          ],
          "name": "stdout"
        },
        {
          "output_type": "stream",
          "text": [
            "50000/50000 [==============================] - 37s 739us/step - loss: 0.7218 - acc: 0.7396 - val_loss: 1.1969 - val_acc: 0.6141\n",
            "Epoch 139/200\n",
            "32704/50000 [==================>...........] - ETA: 12s - loss: 0.7218 - acc: 0.7416"
          ],
          "name": "stdout"
        },
        {
          "output_type": "stream",
          "text": [
            "50000/50000 [==============================] - 37s 738us/step - loss: 0.7255 - acc: 0.7403 - val_loss: 1.1920 - val_acc: 0.6130\n",
            "Epoch 140/200\n",
            "33408/50000 [===================>..........] - ETA: 11s - loss: 0.7038 - acc: 0.7494"
          ],
          "name": "stdout"
        },
        {
          "output_type": "stream",
          "text": [
            "50000/50000 [==============================] - 37s 735us/step - loss: 0.7197 - acc: 0.7450 - val_loss: 1.2219 - val_acc: 0.6041\n",
            "Epoch 141/200\n",
            "33024/50000 [==================>...........] - ETA: 11s - loss: 0.7201 - acc: 0.7423"
          ],
          "name": "stdout"
        },
        {
          "output_type": "stream",
          "text": [
            "50000/50000 [==============================] - 37s 735us/step - loss: 0.7301 - acc: 0.7398 - val_loss: 1.1663 - val_acc: 0.6094\n",
            "Epoch 142/200\n",
            "32864/50000 [==================>...........] - ETA: 11s - loss: 0.7298 - acc: 0.7385"
          ],
          "name": "stdout"
        },
        {
          "output_type": "stream",
          "text": [
            "50000/50000 [==============================] - 37s 737us/step - loss: 0.7282 - acc: 0.7391 - val_loss: 1.2112 - val_acc: 0.6110\n",
            "Epoch 143/200\n",
            "33152/50000 [==================>...........] - ETA: 11s - loss: 0.7165 - acc: 0.7443"
          ],
          "name": "stdout"
        },
        {
          "output_type": "stream",
          "text": [
            "50000/50000 [==============================] - 37s 733us/step - loss: 0.7234 - acc: 0.7423 - val_loss: 1.1557 - val_acc: 0.6118\n",
            "Epoch 144/200\n",
            "33920/50000 [===================>..........] - ETA: 11s - loss: 0.7126 - acc: 0.7484"
          ],
          "name": "stdout"
        },
        {
          "output_type": "stream",
          "text": [
            "50000/50000 [==============================] - 37s 732us/step - loss: 0.7262 - acc: 0.7438 - val_loss: 1.1575 - val_acc: 0.6122\n",
            "Epoch 145/200\n",
            "33760/50000 [===================>..........] - ETA: 11s - loss: 0.7349 - acc: 0.7402"
          ],
          "name": "stdout"
        },
        {
          "output_type": "stream",
          "text": [
            "50000/50000 [==============================] - 37s 737us/step - loss: 0.7429 - acc: 0.7355 - val_loss: 1.1782 - val_acc: 0.6067\n",
            "Epoch 146/200\n",
            "33088/50000 [==================>...........] - ETA: 11s - loss: 0.7239 - acc: 0.7409"
          ],
          "name": "stdout"
        },
        {
          "output_type": "stream",
          "text": [
            "50000/50000 [==============================] - 37s 737us/step - loss: 0.7315 - acc: 0.7393 - val_loss: 1.1850 - val_acc: 0.6137\n",
            "Epoch 147/200\n"
          ],
          "name": "stdout"
        },
        {
          "output_type": "stream",
          "text": [
            "50000/50000 [==============================] - 37s 737us/step - loss: 0.7380 - acc: 0.7358 - val_loss: 1.2056 - val_acc: 0.6045\n",
            "Epoch 148/200\n",
            "32096/50000 [==================>...........] - ETA: 12s - loss: 0.7232 - acc: 0.7430"
          ],
          "name": "stdout"
        },
        {
          "output_type": "stream",
          "text": [
            "50000/50000 [==============================] - 37s 739us/step - loss: 0.7350 - acc: 0.7392 - val_loss: 1.1711 - val_acc: 0.6068\n",
            "Epoch 149/200\n",
            "32256/50000 [==================>...........] - ETA: 12s - loss: 0.7341 - acc: 0.7378"
          ],
          "name": "stdout"
        },
        {
          "output_type": "stream",
          "text": [
            "50000/50000 [==============================] - 37s 738us/step - loss: 0.7420 - acc: 0.7350 - val_loss: 1.1870 - val_acc: 0.6033\n",
            "Epoch 150/200\n",
            "32608/50000 [==================>...........] - ETA: 12s - loss: 0.7404 - acc: 0.7359"
          ],
          "name": "stdout"
        },
        {
          "output_type": "stream",
          "text": [
            "50000/50000 [==============================] - 37s 732us/step - loss: 0.7447 - acc: 0.7338 - val_loss: 1.1958 - val_acc: 0.6104\n",
            "Epoch 151/200\n",
            "32960/50000 [==================>...........] - ETA: 11s - loss: 0.7459 - acc: 0.7330"
          ],
          "name": "stdout"
        },
        {
          "output_type": "stream",
          "text": [
            "50000/50000 [==============================] - 37s 736us/step - loss: 0.7484 - acc: 0.7320 - val_loss: 1.1597 - val_acc: 0.6119\n",
            "Epoch 152/200\n",
            "33856/50000 [===================>..........] - ETA: 11s - loss: 0.7445 - acc: 0.7340"
          ],
          "name": "stdout"
        },
        {
          "output_type": "stream",
          "text": [
            "50000/50000 [==============================] - 37s 733us/step - loss: 0.7557 - acc: 0.7292 - val_loss: 1.1745 - val_acc: 0.6094\n",
            "Epoch 153/200\n",
            "34048/50000 [===================>..........] - ETA: 10s - loss: 0.7535 - acc: 0.7324"
          ],
          "name": "stdout"
        },
        {
          "output_type": "stream",
          "text": [
            "50000/50000 [==============================] - 36s 729us/step - loss: 0.7625 - acc: 0.7287 - val_loss: 1.1480 - val_acc: 0.6133\n",
            "Epoch 154/200\n",
            "34080/50000 [===================>..........] - ETA: 11s - loss: 0.7363 - acc: 0.7368"
          ],
          "name": "stdout"
        },
        {
          "output_type": "stream",
          "text": [
            "50000/50000 [==============================] - 37s 736us/step - loss: 0.7510 - acc: 0.7328 - val_loss: 1.2211 - val_acc: 0.6027\n",
            "Epoch 155/200\n",
            "33856/50000 [===================>..........] - ETA: 11s - loss: 0.7505 - acc: 0.7317"
          ],
          "name": "stdout"
        },
        {
          "output_type": "stream",
          "text": [
            "50000/50000 [==============================] - 37s 737us/step - loss: 0.7591 - acc: 0.7283 - val_loss: 1.1714 - val_acc: 0.6094\n",
            "Epoch 156/200\n",
            "33920/50000 [===================>..........] - ETA: 11s - loss: 0.7518 - acc: 0.7312"
          ],
          "name": "stdout"
        },
        {
          "output_type": "stream",
          "text": [
            "50000/50000 [==============================] - 37s 732us/step - loss: 0.7555 - acc: 0.7300 - val_loss: 1.1948 - val_acc: 0.6077\n",
            "Epoch 157/200\n",
            "32928/50000 [==================>...........] - ETA: 12s - loss: 0.7509 - acc: 0.7315"
          ],
          "name": "stdout"
        },
        {
          "output_type": "stream",
          "text": [
            "50000/50000 [==============================] - 37s 739us/step - loss: 0.7581 - acc: 0.7282 - val_loss: 1.1716 - val_acc: 0.6159\n",
            "Epoch 158/200\n",
            "32192/50000 [==================>...........] - ETA: 12s - loss: 0.7715 - acc: 0.7248"
          ],
          "name": "stdout"
        },
        {
          "output_type": "stream",
          "text": [
            "50000/50000 [==============================] - 37s 730us/step - loss: 0.7729 - acc: 0.7240 - val_loss: 1.1743 - val_acc: 0.6053\n",
            "Epoch 159/200\n",
            "33248/50000 [==================>...........] - ETA: 11s - loss: 0.7683 - acc: 0.7244"
          ],
          "name": "stdout"
        },
        {
          "output_type": "stream",
          "text": [
            "50000/50000 [==============================] - 36s 726us/step - loss: 0.7688 - acc: 0.7246 - val_loss: 1.1568 - val_acc: 0.6184\n",
            "Epoch 160/200\n",
            "32864/50000 [==================>...........] - ETA: 11s - loss: 0.7602 - acc: 0.7284"
          ],
          "name": "stdout"
        },
        {
          "output_type": "stream",
          "text": [
            "50000/50000 [==============================] - 37s 737us/step - loss: 0.7718 - acc: 0.7257 - val_loss: 1.1658 - val_acc: 0.6132\n",
            "Epoch 161/200\n",
            "33312/50000 [==================>...........] - ETA: 11s - loss: 0.7749 - acc: 0.7243"
          ],
          "name": "stdout"
        },
        {
          "output_type": "stream",
          "text": [
            "50000/50000 [==============================] - 37s 739us/step - loss: 0.7807 - acc: 0.7218 - val_loss: 1.1846 - val_acc: 0.5993\n",
            "Epoch 162/200\n",
            "33056/50000 [==================>...........] - ETA: 11s - loss: 0.7802 - acc: 0.7208"
          ],
          "name": "stdout"
        },
        {
          "output_type": "stream",
          "text": [
            "50000/50000 [==============================] - 37s 736us/step - loss: 0.7857 - acc: 0.7188 - val_loss: 1.1653 - val_acc: 0.6088\n",
            "Epoch 163/200\n",
            "33280/50000 [==================>...........] - ETA: 11s - loss: 0.7554 - acc: 0.7293"
          ],
          "name": "stdout"
        },
        {
          "output_type": "stream",
          "text": [
            "50000/50000 [==============================] - 37s 738us/step - loss: 0.7639 - acc: 0.7273 - val_loss: 1.1592 - val_acc: 0.6163\n",
            "Epoch 164/200\n",
            "33248/50000 [==================>...........] - ETA: 11s - loss: 0.7660 - acc: 0.7262"
          ],
          "name": "stdout"
        },
        {
          "output_type": "stream",
          "text": [
            "50000/50000 [==============================] - 37s 739us/step - loss: 0.7679 - acc: 0.7259 - val_loss: 1.1653 - val_acc: 0.6151\n",
            "Epoch 165/200\n",
            "33216/50000 [==================>...........] - ETA: 11s - loss: 0.7495 - acc: 0.7322"
          ],
          "name": "stdout"
        },
        {
          "output_type": "stream",
          "text": [
            "50000/50000 [==============================] - 37s 740us/step - loss: 0.7587 - acc: 0.7287 - val_loss: 1.1623 - val_acc: 0.6120\n",
            "Epoch 166/200\n",
            "33280/50000 [==================>...........] - ETA: 11s - loss: 0.7647 - acc: 0.7261"
          ],
          "name": "stdout"
        },
        {
          "output_type": "stream",
          "text": [
            "50000/50000 [==============================] - 37s 740us/step - loss: 0.7697 - acc: 0.7249 - val_loss: 1.1905 - val_acc: 0.6025\n",
            "Epoch 167/200\n",
            "32832/50000 [==================>...........] - ETA: 12s - loss: 0.7728 - acc: 0.7246"
          ],
          "name": "stdout"
        },
        {
          "output_type": "stream",
          "text": [
            "50000/50000 [==============================] - 37s 739us/step - loss: 0.7756 - acc: 0.7226 - val_loss: 1.1459 - val_acc: 0.6165\n",
            "Epoch 168/200\n",
            "32608/50000 [==================>...........] - ETA: 12s - loss: 0.7738 - acc: 0.7215"
          ],
          "name": "stdout"
        },
        {
          "output_type": "stream",
          "text": [
            "50000/50000 [==============================] - 37s 739us/step - loss: 0.7758 - acc: 0.7221 - val_loss: 1.1698 - val_acc: 0.6055\n",
            "Epoch 169/200\n",
            "32512/50000 [==================>...........] - ETA: 12s - loss: 0.7681 - acc: 0.7249"
          ],
          "name": "stdout"
        },
        {
          "output_type": "stream",
          "text": [
            "50000/50000 [==============================] - 37s 738us/step - loss: 0.7772 - acc: 0.7217 - val_loss: 1.1794 - val_acc: 0.6096\n",
            "Epoch 170/200\n",
            "32672/50000 [==================>...........] - ETA: 12s - loss: 0.7703 - acc: 0.7246"
          ],
          "name": "stdout"
        },
        {
          "output_type": "stream",
          "text": [
            "50000/50000 [==============================] - 37s 739us/step - loss: 0.7752 - acc: 0.7243 - val_loss: 1.1445 - val_acc: 0.6131\n",
            "Epoch 171/200\n",
            "32448/50000 [==================>...........] - ETA: 12s - loss: 0.7622 - acc: 0.7257"
          ],
          "name": "stdout"
        },
        {
          "output_type": "stream",
          "text": [
            "50000/50000 [==============================] - 37s 735us/step - loss: 0.7712 - acc: 0.7241 - val_loss: 1.1592 - val_acc: 0.6107\n",
            "Epoch 172/200\n",
            "33088/50000 [==================>...........] - ETA: 11s - loss: 0.7947 - acc: 0.7128"
          ],
          "name": "stdout"
        },
        {
          "output_type": "stream",
          "text": [
            "50000/50000 [==============================] - 37s 735us/step - loss: 0.7969 - acc: 0.7124 - val_loss: 1.1824 - val_acc: 0.6035\n",
            "Epoch 173/200\n",
            "33120/50000 [==================>...........] - ETA: 11s - loss: 0.7750 - acc: 0.7228"
          ],
          "name": "stdout"
        },
        {
          "output_type": "stream",
          "text": [
            "50000/50000 [==============================] - 37s 737us/step - loss: 0.7801 - acc: 0.7202 - val_loss: 1.1635 - val_acc: 0.6152\n",
            "Epoch 174/200\n",
            "32768/50000 [==================>...........] - ETA: 12s - loss: 0.7908 - acc: 0.7174"
          ],
          "name": "stdout"
        },
        {
          "output_type": "stream",
          "text": [
            "50000/50000 [==============================] - 37s 737us/step - loss: 0.7973 - acc: 0.7147 - val_loss: 1.1633 - val_acc: 0.6035\n",
            "Epoch 175/200\n",
            "32416/50000 [==================>...........] - ETA: 12s - loss: 0.7837 - acc: 0.7192"
          ],
          "name": "stdout"
        },
        {
          "output_type": "stream",
          "text": [
            "50000/50000 [==============================] - 37s 736us/step - loss: 0.7838 - acc: 0.7212 - val_loss: 1.1801 - val_acc: 0.6045\n",
            "Epoch 176/200\n",
            "33408/50000 [===================>..........] - ETA: 11s - loss: 0.7848 - acc: 0.7161"
          ],
          "name": "stdout"
        },
        {
          "output_type": "stream",
          "text": [
            "50000/50000 [==============================] - 37s 735us/step - loss: 0.7878 - acc: 0.7171 - val_loss: 1.1517 - val_acc: 0.6090\n",
            "Epoch 177/200\n",
            "33376/50000 [===================>..........] - ETA: 11s - loss: 0.7942 - acc: 0.7174"
          ],
          "name": "stdout"
        },
        {
          "output_type": "stream",
          "text": [
            "50000/50000 [==============================] - 37s 737us/step - loss: 0.8015 - acc: 0.7138 - val_loss: 1.1452 - val_acc: 0.6143\n",
            "Epoch 178/200\n",
            "33568/50000 [===================>..........] - ETA: 11s - loss: 0.7811 - acc: 0.7203"
          ],
          "name": "stdout"
        },
        {
          "output_type": "stream",
          "text": [
            "50000/50000 [==============================] - 37s 738us/step - loss: 0.7916 - acc: 0.7172 - val_loss: 1.1572 - val_acc: 0.6107\n",
            "Epoch 179/200\n",
            "33312/50000 [==================>...........] - ETA: 11s - loss: 0.7914 - acc: 0.7161"
          ],
          "name": "stdout"
        },
        {
          "output_type": "stream",
          "text": [
            "50000/50000 [==============================] - 37s 740us/step - loss: 0.8035 - acc: 0.7115 - val_loss: 1.1830 - val_acc: 0.6049\n",
            "Epoch 180/200\n",
            "33984/50000 [===================>..........] - ETA: 11s - loss: 0.7977 - acc: 0.7147"
          ],
          "name": "stdout"
        },
        {
          "output_type": "stream",
          "text": [
            "50000/50000 [==============================] - 37s 740us/step - loss: 0.8031 - acc: 0.7137 - val_loss: 1.1568 - val_acc: 0.6095\n",
            "Epoch 181/200\n",
            "33472/50000 [===================>..........] - ETA: 11s - loss: 0.8028 - acc: 0.7147"
          ],
          "name": "stdout"
        },
        {
          "output_type": "stream",
          "text": [
            "50000/50000 [==============================] - 37s 740us/step - loss: 0.8059 - acc: 0.7128 - val_loss: 1.1533 - val_acc: 0.6148\n",
            "Epoch 182/200\n",
            "33376/50000 [===================>..........] - ETA: 11s - loss: 0.8105 - acc: 0.7108"
          ],
          "name": "stdout"
        },
        {
          "output_type": "stream",
          "text": [
            "50000/50000 [==============================] - 37s 740us/step - loss: 0.8206 - acc: 0.7070 - val_loss: 1.1582 - val_acc: 0.6010\n",
            "Epoch 183/200\n",
            "33056/50000 [==================>...........] - ETA: 11s - loss: 0.8227 - acc: 0.7066"
          ],
          "name": "stdout"
        },
        {
          "output_type": "stream",
          "text": [
            "50000/50000 [==============================] - 37s 736us/step - loss: 0.8214 - acc: 0.7064 - val_loss: 1.1458 - val_acc: 0.6126\n",
            "Epoch 184/200\n",
            "33216/50000 [==================>...........] - ETA: 11s - loss: 0.8206 - acc: 0.7065"
          ],
          "name": "stdout"
        },
        {
          "output_type": "stream",
          "text": [
            "50000/50000 [==============================] - 37s 731us/step - loss: 0.8238 - acc: 0.7055 - val_loss: 1.1570 - val_acc: 0.6084\n",
            "Epoch 185/200\n",
            "33536/50000 [===================>..........] - ETA: 11s - loss: 0.8234 - acc: 0.7052"
          ],
          "name": "stdout"
        },
        {
          "output_type": "stream",
          "text": [
            "50000/50000 [==============================] - 37s 733us/step - loss: 0.8289 - acc: 0.7048 - val_loss: 1.1623 - val_acc: 0.6024\n",
            "Epoch 186/200\n",
            "33280/50000 [==================>...........] - ETA: 11s - loss: 0.8222 - acc: 0.7058"
          ],
          "name": "stdout"
        },
        {
          "output_type": "stream",
          "text": [
            "50000/50000 [==============================] - 37s 737us/step - loss: 0.8247 - acc: 0.7062 - val_loss: 1.1476 - val_acc: 0.6128\n",
            "Epoch 187/200\n",
            "32480/50000 [==================>...........] - ETA: 12s - loss: 0.8229 - acc: 0.7058"
          ],
          "name": "stdout"
        },
        {
          "output_type": "stream",
          "text": [
            "50000/50000 [==============================] - 37s 739us/step - loss: 0.8302 - acc: 0.7032 - val_loss: 1.1439 - val_acc: 0.6105\n",
            "Epoch 188/200\n",
            "33440/50000 [===================>..........] - ETA: 11s - loss: 0.8321 - acc: 0.7025"
          ],
          "name": "stdout"
        },
        {
          "output_type": "stream",
          "text": [
            "50000/50000 [==============================] - 37s 736us/step - loss: 0.8361 - acc: 0.7017 - val_loss: 1.1379 - val_acc: 0.6070\n",
            "Epoch 189/200\n",
            "34048/50000 [===================>..........] - ETA: 11s - loss: 0.8223 - acc: 0.7081"
          ],
          "name": "stdout"
        },
        {
          "output_type": "stream",
          "text": [
            "50000/50000 [==============================] - 37s 737us/step - loss: 0.8266 - acc: 0.7071 - val_loss: 1.1435 - val_acc: 0.6087\n",
            "Epoch 190/200\n",
            "33024/50000 [==================>...........] - ETA: 11s - loss: 0.8364 - acc: 0.7023"
          ],
          "name": "stdout"
        },
        {
          "output_type": "stream",
          "text": [
            "50000/50000 [==============================] - 37s 743us/step - loss: 0.8415 - acc: 0.7016 - val_loss: 1.1341 - val_acc: 0.6122\n",
            "Epoch 191/200\n",
            "32480/50000 [==================>...........] - ETA: 12s - loss: 0.8375 - acc: 0.7018"
          ],
          "name": "stdout"
        },
        {
          "output_type": "stream",
          "text": [
            "50000/50000 [==============================] - 37s 740us/step - loss: 0.8433 - acc: 0.6994 - val_loss: 1.1318 - val_acc: 0.6177\n",
            "Epoch 192/200\n",
            "33376/50000 [===================>..........] - ETA: 11s - loss: 0.8374 - acc: 0.7009"
          ],
          "name": "stdout"
        },
        {
          "output_type": "stream",
          "text": [
            "50000/50000 [==============================] - 37s 733us/step - loss: 0.8461 - acc: 0.6965 - val_loss: 1.1555 - val_acc: 0.6038\n",
            "Epoch 193/200\n",
            "33728/50000 [===================>..........] - ETA: 11s - loss: 0.8266 - acc: 0.7081"
          ],
          "name": "stdout"
        },
        {
          "output_type": "stream",
          "text": [
            "50000/50000 [==============================] - 37s 739us/step - loss: 0.8350 - acc: 0.7044 - val_loss: 1.1558 - val_acc: 0.6050\n",
            "Epoch 194/200\n",
            "32736/50000 [==================>...........] - ETA: 12s - loss: 0.8218 - acc: 0.7052"
          ],
          "name": "stdout"
        },
        {
          "output_type": "stream",
          "text": [
            "50000/50000 [==============================] - 37s 738us/step - loss: 0.8320 - acc: 0.7028 - val_loss: 1.1367 - val_acc: 0.6117\n",
            "Epoch 195/200\n",
            "33088/50000 [==================>...........] - ETA: 11s - loss: 0.8297 - acc: 0.7052"
          ],
          "name": "stdout"
        },
        {
          "output_type": "stream",
          "text": [
            "50000/50000 [==============================] - 37s 738us/step - loss: 0.8284 - acc: 0.7058 - val_loss: 1.1736 - val_acc: 0.6065\n",
            "Epoch 196/200\n",
            "33600/50000 [===================>..........] - ETA: 11s - loss: 0.8258 - acc: 0.7067"
          ],
          "name": "stdout"
        },
        {
          "output_type": "stream",
          "text": [
            "50000/50000 [==============================] - 37s 735us/step - loss: 0.8299 - acc: 0.7042 - val_loss: 1.1378 - val_acc: 0.6115\n",
            "Epoch 197/200\n",
            "33344/50000 [===================>..........] - ETA: 11s - loss: 0.8196 - acc: 0.7052"
          ],
          "name": "stdout"
        },
        {
          "output_type": "stream",
          "text": [
            "50000/50000 [==============================] - 37s 737us/step - loss: 0.8298 - acc: 0.7027 - val_loss: 1.1242 - val_acc: 0.6176\n",
            "Epoch 198/200\n",
            "32768/50000 [==================>...........] - ETA: 12s - loss: 0.8412 - acc: 0.7025"
          ],
          "name": "stdout"
        },
        {
          "output_type": "stream",
          "text": [
            "50000/50000 [==============================] - 37s 739us/step - loss: 0.8413 - acc: 0.7005 - val_loss: 1.1605 - val_acc: 0.6020\n",
            "Epoch 199/200\n",
            "32992/50000 [==================>...........] - ETA: 11s - loss: 0.8490 - acc: 0.6965"
          ],
          "name": "stdout"
        },
        {
          "output_type": "stream",
          "text": [
            "50000/50000 [==============================] - 37s 738us/step - loss: 0.8435 - acc: 0.6984 - val_loss: 1.1705 - val_acc: 0.6001\n",
            "Epoch 200/200\n",
            "32352/50000 [==================>...........] - ETA: 12s - loss: 0.8304 - acc: 0.7060"
          ],
          "name": "stdout"
        },
        {
          "output_type": "stream",
          "text": [
            "50000/50000 [==============================] - 37s 738us/step - loss: 0.8356 - acc: 0.7031 - val_loss: 1.1404 - val_acc: 0.6098\n"
          ],
          "name": "stdout"
        }
      ]
    },
    {
      "metadata": {
        "id": "uQWlIx4py1Sf",
        "colab_type": "code",
        "colab": {
          "base_uri": "https://localhost:8080/",
          "height": 623
        },
        "outputId": "5da78e7b-1f90-4ede-90e9-910e63701f6a"
      },
      "cell_type": "code",
      "source": [
        "plt.figure(figsize=(18,10))\n",
        "sb.set_style(\"whitegrid\")\n",
        "plt.plot(m3.history['acc'],color=\"#E74C3C\",marker='o')\n",
        "plt.plot(m3.history['val_acc'],color='#641E16',marker='h')\n",
        "plt.title('Accuracy comparison between Validation and Train Data set',fontsize=15)\n",
        "plt.ylabel('Accuracy')\n",
        "plt.xlabel('Epoch')\n",
        "plt.legend(['Train', 'Test'], loc='best')\n",
        "plt.show()"
      ],
      "execution_count": 37,
      "outputs": [
        {
          "output_type": "display_data",
          "data": {
            "image/png": "[encoded data removed]",
            "text/plain": [
              "<matplotlib.figure.Figure at 0x7f5d490d5940>"
            ]
          },
          "metadata": {
            "tags": []
          }
        }
      ]
    }
  ]
}